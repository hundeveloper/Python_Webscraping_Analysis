{
 "cells": [
  {
   "cell_type": "markdown",
   "id": "eb0bfa44",
   "metadata": {},
   "source": [
    "## 1. 뉴스제목 가져오기\n",
    "* user-agent 요청헤더를 반드시 설정해야 한다."
   ]
  },
  {
   "cell_type": "code",
   "execution_count": 3,
   "id": "f0d27781",
   "metadata": {},
   "outputs": [
    {
     "name": "stdout",
     "output_type": "stream",
     "text": [
      "Name: requestsNote: you may need to restart the kernel to use updated packages.\n",
      "\n",
      "Version: 2.32.3\n",
      "Summary: Python HTTP for Humans.\n",
      "Home-page: https://requests.readthedocs.io\n",
      "Author: Kenneth Reitz\n",
      "Author-email: me@kennethreitz.org\n",
      "License: Apache-2.0\n",
      "Location: C:\\Users\\hun\\anaconda3\\Lib\\site-packages\n",
      "Requires: certifi, charset-normalizer, idna, urllib3\n",
      "Required-by: aext-assistant-server, anaconda-catalogs, anaconda-client, anaconda-cloud-auth, anaconda-project, conda, conda-build, conda-repo-cli, conda_package_streaming, cookiecutter, datashader, jupyterlab_server, panel, requests-file, requests-toolbelt, Sphinx, streamlit, tldextract, webdriver-manager\n"
     ]
    }
   ],
   "source": [
    "# requests 라이브러리 설치여부 확인\n",
    "%pip show requests"
   ]
  },
  {
   "cell_type": "code",
   "execution_count": 5,
   "id": "f7798ea8",
   "metadata": {},
   "outputs": [
    {
     "name": "stdout",
     "output_type": "stream",
     "text": [
      "Name: beautifulsoup4\n",
      "Version: 4.12.3\n",
      "Summary: Screen-scraping library\n",
      "Home-page: https://www.crummy.com/software/BeautifulSoup/bs4/\n",
      "Author: \n",
      "Author-email: Leonard Richardson <leonardr@segfault.org>\n",
      "License: MIT License\n",
      "Location: C:\\Users\\hun\\anaconda3\\Lib\\site-packages\n",
      "Requires: soupsieve\n",
      "Required-by: conda-build, nbconvert\n",
      "Note: you may need to restart the kernel to use updated packages.\n"
     ]
    }
   ],
   "source": [
    "# beautifulsoup4 라이브러리 설치여부 확인\n",
    "%pip show beautifulsoup4"
   ]
  },
  {
   "cell_type": "code",
   "execution_count": 6,
   "id": "bf80a429",
   "metadata": {},
   "outputs": [],
   "source": [
    "# reqeusts, bs4 import\n",
    "import requests\n",
    "import bs4\n",
    "# BeautifulSoup 클래스 import\n",
    "from bs4 import BeautifulSoup"
   ]
  },
  {
   "cell_type": "code",
   "execution_count": 7,
   "id": "9788d6ac",
   "metadata": {},
   "outputs": [
    {
     "name": "stdout",
     "output_type": "stream",
     "text": [
      "requests 버전 2.32.3\n",
      "beautifulsoup4 버전 4.12.3\n"
     ]
    }
   ],
   "source": [
    "# requests, bs4 버전 확인하기\n",
    "print(f'requests 버전 {requests.__version__}')\n",
    "print(f'beautifulsoup4 버전 {bs4.__version__}')"
   ]
  },
  {
   "cell_type": "markdown",
   "id": "ccb91def-cde3-4aeb-b0e5-2e7233500333",
   "metadata": {},
   "source": [
    "### 1. 뉴스 제목 추출하기"
   ]
  },
  {
   "cell_type": "code",
   "execution_count": 9,
   "id": "94c12fd6",
   "metadata": {},
   "outputs": [
    {
     "name": "stdout",
     "output_type": "stream",
     "text": [
      "https://news.naver.com/section/105\n",
      "<Response [200]>\n",
      "<class 'requests.models.Response'>\n",
      "200 True\n",
      "88\n",
      "<class 'bs4.element.ResultSet'>\n",
      "https://n.news.naver.com/mnews/article/138/0002194302 보고 누르고 즐기고… ‘넷마블게임박물관’과 함께하는 게임 여행[현장]\n",
      "https://n.news.naver.com/mnews/article/comment/138/0002194302 \n",
      "https://n.news.naver.com/mnews/article/421/0008179944 전방에 '야생동물 출현'…AI 활용 로드킬 예방 시스템 시범운영\n",
      "https://n.news.naver.com/mnews/article/comment/421/0008179944 \n",
      "https://n.news.naver.com/mnews/article/421/0008181657 KT '지니 TV 셋톱박스 4', 레드닷 수상…3대 디자인 어워드 석권\n",
      "https://n.news.naver.com/mnews/article/comment/421/0008181657 \n",
      "https://n.news.naver.com/mnews/article/138/0002194310 2024년 모바일 게임 수익 122조원… 캐주얼 게임 성장세 돋보여\n",
      "https://n.news.naver.com/mnews/article/comment/138/0002194310 \n",
      "https://n.news.naver.com/mnews/article/014/0005333354 네이버웹툰-문피아, 2025 지상최대 웹소설 공모전 연다\n",
      "https://n.news.naver.com/mnews/article/comment/014/0005333354 \n",
      "https://n.news.naver.com/mnews/article/421/0008181912 카카오모빌리티, 자율주행 AI 학습 정보 관리 기술로 과기장관상\n",
      "https://n.news.naver.com/mnews/article/comment/421/0008181912 \n",
      "https://n.news.naver.com/mnews/article/001/0015319039 전략기술 확보 민관 고위협력채널 '국가전략기술 미래대화' 출범\n",
      "https://n.news.naver.com/mnews/article/comment/001/0015319039 \n",
      "https://n.news.naver.com/mnews/article/448/0000519165 우주청, 美 심포지엄서 우즈베키스탄·이탈리아 우주청과 협약\n",
      "https://n.news.naver.com/mnews/article/comment/448/0000519165 \n",
      "https://n.news.naver.com/mnews/article/092/0002369955 [1분건강] 폭싹 속았수다 양관식이 앓던 ‘다발성 골수종’ 무엇\n",
      "https://n.news.naver.com/mnews/article/comment/092/0002369955 \n",
      "https://n.news.naver.com/mnews/article/092/0002369950 아워홈 용인공장 사고 직원 사망…구미현 대표 \"깊은 애도\"\n",
      "https://n.news.naver.com/mnews/article/comment/092/0002369950 \n",
      "https://n.news.naver.com/mnews/article/092/0002369949 1Q 총수 주식재산, 방시혁 급등 서정진 급락…이재용, 1위 유지\n",
      "https://n.news.naver.com/mnews/article/comment/092/0002369949 \n",
      "https://n.news.naver.com/mnews/article/092/0002369948 [1분건강] 구강 및 안구의 건조가 지속되는 ‘쇼그렌증후군’\n",
      "https://n.news.naver.com/mnews/article/comment/092/0002369948 \n",
      "https://n.news.naver.com/mnews/article/584/0000031796 \"위성으로 본 공기, 부자 동네가 더 오염됐다\"\n",
      "https://n.news.naver.com/mnews/article/comment/584/0000031796 \n",
      "https://n.news.naver.com/mnews/article/092/0002369942 차세대 iOS19 어떻게 나오나…루머 총정리\n",
      "https://n.news.naver.com/mnews/article/comment/092/0002369942 \n",
      "https://n.news.naver.com/mnews/article/092/0002369941 중소 PC 제조사, 관세 부담에 미국 내 판매 중단\n",
      "https://n.news.naver.com/mnews/article/comment/092/0002369941 \n",
      "https://n.news.naver.com/mnews/article/014/0005333407 크래프톤, 인도서 사용자 데이터 유출로 고발...인도 시장 확장에 '찬물'\n",
      "https://n.news.naver.com/mnews/article/comment/014/0005333407 \n",
      "https://n.news.naver.com/mnews/article/092/0002369939 우아한청년들, 배달료 통합개편 했더니...라이더 평균 소득 11%↑\n",
      "https://n.news.naver.com/mnews/article/comment/092/0002369939 \n",
      "https://n.news.naver.com/mnews/article/277/0005575174 [최고기술자에게 듣는다]⑧\"말로 로밍 가입까지…가장 사람같은 AI 상담원 선보일 것\"\n",
      "https://n.news.naver.com/mnews/article/comment/277/0005575174 \n",
      "https://n.news.naver.com/mnews/article/009/0005473277 부자동네는 공기부터 다르다더니...“정말 그렇네” 위성사진 분석 결과는\n",
      "https://n.news.naver.com/mnews/article/comment/009/0005473277 \n",
      "https://n.news.naver.com/mnews/article/665/0000004808 트럼프가 애플에 날린 '재앙 청구서' [Global]\n",
      "https://n.news.naver.com/mnews/article/comment/665/0000004808 \n",
      "https://n.news.naver.com/mnews/article/138/0002194320 RPA와 결합한 ‘생성형AI와 LLM’… 답답했던 금융권 ‘초자동화’ 난제, 해결 보인다\n",
      "https://n.news.naver.com/mnews/article/comment/138/0002194320 \n",
      "https://n.news.naver.com/mnews/article/092/0002369936 24시간 무인검사 현실로…씨젠, 전자동 PCR 무인검사 ‘CURECA’ 공개\n",
      "https://n.news.naver.com/mnews/article/comment/092/0002369936 \n",
      "https://n.news.naver.com/mnews/article/015/0005116927 '카이스트 교수' 변신하더니…\"한국 최초\" 지드래곤 '근황'\n",
      "https://n.news.naver.com/mnews/article/comment/015/0005116927 \n",
      "https://n.news.naver.com/mnews/article/092/0002369933 트럼프, ‘아이폰도 美서 생산' 판단…가능할까?\n",
      "https://n.news.naver.com/mnews/article/comment/092/0002369933 \n",
      "https://n.news.naver.com/mnews/article/023/0003898465 TSMC, 화웨이에 몰래 반도체 공급... 10억 달러 벌금 직면\n",
      "https://n.news.naver.com/mnews/article/comment/023/0003898465 \n",
      "https://n.news.naver.com/mnews/article/092/0002369931 유의종목 지정 위믹스, 해제 가능성은...\"신뢰회복 평가 중요\"\n",
      "https://n.news.naver.com/mnews/article/comment/092/0002369931 \n",
      "https://n.news.naver.com/mnews/article/092/0002369930 엔씨, 중화권-동남아 진출 성과에 주목...블소2에 리니지2M\n",
      "https://n.news.naver.com/mnews/article/comment/092/0002369930 \n",
      "https://n.news.naver.com/mnews/article/008/0005177924 \"소득 11% 올라 월 400만원 벌어요\"…라이더 웃게 한 배민\n",
      "https://n.news.naver.com/mnews/article/comment/008/0005177924 \n",
      "https://n.news.naver.com/mnews/article/421/0008181818 [100세건강] 군데군데 흰 반점 '백반증'…\"불치병? 치료법 개발\"\n",
      "https://n.news.naver.com/mnews/article/comment/421/0008181818 \n",
      "https://n.news.naver.com/mnews/article/092/0002369919 인도, BYD 시장 진입 제한…테슬라에만 문 열어\n",
      "https://n.news.naver.com/mnews/article/comment/092/0002369919 \n",
      "https://n.news.naver.com/mnews/article/092/0002369918 1~2월 전기차 시장 희비 엇갈려…BYD 웃고 테슬라 울다\n",
      "https://n.news.naver.com/mnews/article/comment/092/0002369918 \n",
      "https://n.news.naver.com/mnews/article/092/0002369915 트럼프, 中에 104% 상호관세 맞대응...9일부터 시행\n",
      "https://n.news.naver.com/mnews/article/comment/092/0002369915 \n",
      "https://n.news.naver.com/mnews/article/009/0005473213 애플 주가 급락…다시 ‘시총 1위’ 오른 마이크로소프트\n",
      "https://n.news.naver.com/mnews/article/comment/009/0005473213 \n",
      "https://n.news.naver.com/mnews/article/422/0000729313 \"캐릭터 얻어맞아 우울증\"…중국 게이머, 게임사 상대 소송\n",
      "https://n.news.naver.com/mnews/article/comment/422/0000729313 \n",
      "https://n.news.naver.com/mnews/article/030/0003301556 차세대 패키징 '칩렛' 지원하는 '광 반도체' 기술 나왔다\n",
      "https://n.news.naver.com/mnews/article/comment/030/0003301556 \n",
      "https://n.news.naver.com/mnews/article/028/0002739981 나사 위성이 촬영한 경북 산불의 상흔\n",
      "https://n.news.naver.com/mnews/article/comment/028/0002739981 \n",
      "https://n.news.naver.com/mnews/article/029/0002946878 네이버멤버십, 만족도 1위로 올라서…쿠팡와우 제쳤다\n",
      "https://n.news.naver.com/mnews/article/comment/029/0002946878 \n",
      "https://n.news.naver.com/mnews/article/422/0000729310 씨젠, PCR 100% 무인검사 기법 실물 미국 전시회서 공개\n",
      "https://n.news.naver.com/mnews/article/comment/422/0000729310 \n",
      "https://n.news.naver.com/mnews/article/001/0015319006 백준호 퓨리오사AI 대표 \"AI 인프라 지휘부, 혁신 경험 갖춰야\"\n",
      "https://n.news.naver.com/mnews/article/comment/001/0015319006 \n",
      "https://n.news.naver.com/mnews/article/031/0000923014 기세 오른 넷마블 'RF 온라인 넥스트'…4월부터 대규모 전쟁 콘텐츠 선보여\n",
      "https://n.news.naver.com/mnews/article/comment/031/0000923014 \n",
      "https://n.news.naver.com/mnews/article/092/0002369901 EU, 미 보복 관세 대상에서 버번 위스키·와인·유제품 제외\n",
      "https://n.news.naver.com/mnews/article/comment/092/0002369901 \n",
      "https://n.news.naver.com/mnews/article/015/0005116865 \"아들이 좋아하겠네\"…게임 말리던 부모들도 꽂힌 의외의 장소 [영상]\n",
      "https://n.news.naver.com/mnews/article/comment/015/0005116865 \n",
      "https://n.news.naver.com/mnews/article/001/0015318894 \"NHN 게임사업, 웹보드 넘어 미드코어·서브컬처로 성과 내겠다\"\n",
      "https://n.news.naver.com/mnews/article/comment/001/0015318894 \n",
      "https://n.news.naver.com/mnews/article/003/0013172294 '마비노기M' '카잔' 쌍끌이 흥행…넥슨 매출 7조 목표 순항?\n",
      "https://n.news.naver.com/mnews/article/comment/003/0013172294 \n"
     ]
    }
   ],
   "source": [
    "# IT/과학 뉴스\n",
    "req_param = {\"sid\": 105}\n",
    "#\n",
    "url = \"https://news.naver.com/section/{sid}\".format(**req_param)\n",
    "print(url)\n",
    "\n",
    "# url2 = 'https://news.naver.com/section/105'\n",
    "\n",
    "# 요청 헤더 설정 : 브라우저 정보 (사람처럼 보이게 하려고 설정하는 것임)\n",
    "req_header = {\n",
    "    \"user-agent\": \"Mozilla/5.0 (Windows NT 10.0; Win64; x64) AppleWebKit/537.36 (KHTML, like Gecko) Chrome/104.0.0.0 Safari/537.36\"\n",
    "}\n",
    "\n",
    "# requests 의 get() 함수 호출하기\n",
    "res = requests.get(url, headers=req_header)\n",
    "print(res)\n",
    "print(type(res))\n",
    "print(res.status_code, res.ok)\n",
    "\n",
    "# 응답(response)이 OK 이면\n",
    "if res.ok:\n",
    "    # 응답 (response)에서 text 추출 - source 보기\n",
    "    html = res.text\n",
    "    # BeautifulSoup 객체 생성\n",
    "    soup = BeautifulSoup(html, \"html.parser\")\n",
    "    # print(soup)\n",
    "    # CSS 선택자\n",
    "    # <div class='sa_text'><a href=''></a></div>\n",
    "    print(len(soup.select(\"div.sa_text a[href*='mnews/article']\")))\n",
    "    a_tag_list = soup.select(\"div.sa_text a[href*='mnews/article']\")\n",
    "    print(\n",
    "        type(a_tag_list)\n",
    "    )  # [<a href=\"http://\">뉴스제목</a>] ResultSet객체 , <a></a> : Tag 객체\n",
    "    for a_tag in a_tag_list:\n",
    "        # print(type(a_tag))\n",
    "        title = a_tag.text.strip()\n",
    "        # href 속성의 값을 가져오기\n",
    "        link = a_tag[\"href\"]\n",
    "        print(link, title)\n",
    "else:\n",
    "    # 응답(response)이 Error 이면 status code 출력\n",
    "    print(f\"에러 코드 = {res.status_code}\")"
   ]
  },
  {
   "cell_type": "markdown",
   "id": "45640860-a449-4285-90d7-5f300292b461",
   "metadata": {},
   "source": [
    "### 1.1 뉴스제목 추출하는 함수 선언하기"
   ]
  },
  {
   "cell_type": "code",
   "execution_count": 15,
   "id": "9f2e4ef8",
   "metadata": {},
   "outputs": [
    {
     "name": "stdout",
     "output_type": "stream",
     "text": [
      "=====> https://news.naver.com/section/101 경제 뉴스 <=====\n",
      "<Response [200]>\n",
      "<class 'requests.models.Response'>\n",
      "200 True\n",
      "92\n",
      "<class 'bs4.element.ResultSet'>\n",
      "https://n.news.naver.com/mnews/article/016/0002454595 “주문 지연사태 사과”…키움證, 전고객 국내주식 수수료 일주일 할인\n",
      "https://n.news.naver.com/mnews/article/comment/016/0002454595 \n",
      "https://n.news.naver.com/mnews/article/003/0013172219 3월 취업자 19만3000명↑…청년·건설·제조업 고용 한파는 지속(2보)\n",
      "https://n.news.naver.com/mnews/article/comment/003/0013172219 \n",
      "https://n.news.naver.com/mnews/article/001/0015319623 한국타이어, 독일서 '벤투스 에보' 미디어 시승 체험 행사\n",
      "https://n.news.naver.com/mnews/article/comment/001/0015319623 \n",
      "https://n.news.naver.com/mnews/article/277/0005575069 아워홈 용인공장 사고 직원 사망…구미현 대표 \"머리 숙여 사과\"\n",
      "https://n.news.naver.com/mnews/article/comment/277/0005575069 \n",
      "https://n.news.naver.com/mnews/article/366/0001067835 롯데웰푸드, 무당류 브랜드 ‘제로(ZERO)’ 수출 1년새 4배 증가\n",
      "https://n.news.naver.com/mnews/article/comment/366/0001067835 \n",
      "https://n.news.naver.com/mnews/article/277/0005575074 테슬라 숏 친 2030, 성장주 담은 4050\n",
      "https://n.news.naver.com/mnews/article/comment/277/0005575074 \n",
      "https://n.news.naver.com/mnews/article/011/0004471874 업종별 정책금융·중기 경영안정자금 2500억…“관세 여파 최소화”\n",
      "https://n.news.naver.com/mnews/article/comment/011/0004471874 \n",
      "https://n.news.naver.com/mnews/article/023/0003898437 한국, 세계국채지수 편입 최종 확정... 시행은 내년 4월로 늦춰져\n",
      "https://n.news.naver.com/mnews/article/comment/023/0003898437 \n",
      "https://n.news.naver.com/mnews/article/277/0005575101 SK에코플랜트, 반도체 산업 기술 개발 산·학·연 협력 구축\n",
      "https://n.news.naver.com/mnews/article/comment/277/0005575101 \n",
      "https://n.news.naver.com/mnews/article/008/0005177904 식품·엔터 방점 찍은 이재현 CJ회장...\"올해 첫 해외현장은 일본\"\n",
      "https://n.news.naver.com/mnews/article/comment/008/0005177904 \n",
      "https://n.news.naver.com/mnews/article/011/0004472010 美 관세 불안하나 단기 매수 기회…SK하이닉스 순매수 1위 [주식 초고수는 지금]\n",
      "https://n.news.naver.com/mnews/article/comment/011/0004472010 \n",
      "https://n.news.naver.com/mnews/article/138/0002194331 '관세'걱정없는 4대 금융… 올해 1분기 순이익 5조원 육박할 듯\n",
      "https://n.news.naver.com/mnews/article/comment/138/0002194331 \n",
      "https://n.news.naver.com/mnews/article/016/0002454805 홈플러스-유업계, 납품중단 ‘네탓’ 공방\n",
      "https://n.news.naver.com/mnews/article/comment/016/0002454805 \n",
      "https://n.news.naver.com/mnews/article/016/0002454804 “돈 안되는 제주에”…화장품 회장님이 ‘녹차밭’ 만든 이유[언박싱 프로]\n",
      "https://n.news.naver.com/mnews/article/comment/016/0002454804 \n",
      "https://n.news.naver.com/mnews/article/050/0000089051 노소영, 김희영 상대 30억 손배소 비용 청구…2000만원 인용\n",
      "https://n.news.naver.com/mnews/article/comment/050/0000089051 \n",
      "https://n.news.naver.com/mnews/article/666/0000069396 美조선 수주, 韓이 싹쓸이…K조선의 ‘지정학 반사이익’ 현실 [한양경제]\n",
      "https://n.news.naver.com/mnews/article/comment/666/0000069396 \n",
      "https://n.news.naver.com/mnews/article/001/0015319600 관세발효 앞두고 조심스러운 코스피 0.6% 약세…코스닥도 내려\n",
      "https://n.news.naver.com/mnews/article/comment/001/0015319600 \n",
      "https://n.news.naver.com/mnews/article/586/0000100972 카카오, '기업가치 11조원' 카카오엔터 매각 추진\n",
      "https://n.news.naver.com/mnews/article/comment/586/0000100972 \n",
      "https://n.news.naver.com/mnews/article/030/0003301671 카카오 노조 “카카오 계열사 사모펀드 매각은 공공성 후퇴”\n",
      "https://n.news.naver.com/mnews/article/comment/030/0003301671 \n",
      "https://n.news.naver.com/mnews/article/031/0000923088 '의견거절'에도 한국유니온제약·지더블유바이텍, 상폐 모면\n",
      "https://n.news.naver.com/mnews/article/comment/031/0000923088 \n",
      "https://n.news.naver.com/mnews/article/469/0000858542 서울~부산 20분… 정부, 머스크도 꿈꾼 '하이퍼튜브' 핵심기술 개발 착수\n",
      "https://n.news.naver.com/mnews/article/comment/469/0000858542 \n",
      "https://n.news.naver.com/mnews/article/648/0000035175 조현상 수입차 실적 보니…'벤츠' 겨우 흑자·'랜드로버' 적전\n",
      "https://n.news.naver.com/mnews/article/comment/648/0000035175 \n",
      "https://n.news.naver.com/mnews/article/417/0001069711 1분기 총수 43명 주식재산 1810억↓… 이재용, 유일한 '10조클럽'\n",
      "https://n.news.naver.com/mnews/article/comment/417/0001069711 \n",
      "https://n.news.naver.com/mnews/article/009/0005473300 대구 중심 축 이동할까…신흥 랜드마크 개발 속도\n",
      "https://n.news.naver.com/mnews/article/comment/009/0005473300 \n",
      "https://n.news.naver.com/mnews/article/029/0002946938 한화에어로, 폴란드서 `K9 유저클럽` 개최…역대 최대 규모\n",
      "https://n.news.naver.com/mnews/article/comment/029/0002946938 \n",
      "https://n.news.naver.com/mnews/article/016/0002454796 두산에너빌 SMR 총괄 “5년간 60기기 이상 수주 목표”\n",
      "https://n.news.naver.com/mnews/article/comment/016/0002454796 \n",
      "https://n.news.naver.com/mnews/article/016/0002454795 진에어, 日서 대한항공 비행기 정비…‘통합 대한항공’ 시너지 창출 본격화\n",
      "https://n.news.naver.com/mnews/article/comment/016/0002454795 \n",
      "https://n.news.naver.com/mnews/article/243/0000076038 트럼프發 관세 전쟁에 '가상자산 흔들'…비트코인 3%↓\n",
      "https://n.news.naver.com/mnews/article/comment/243/0000076038 \n",
      "https://n.news.naver.com/mnews/article/009/0005473296 [단독] 에코플랜트 환경 자회사 매각…KKR·스틱, 2파전\n",
      "https://n.news.naver.com/mnews/article/comment/009/0005473296 \n",
      "https://n.news.naver.com/mnews/article/016/0002454789 [헤럴드광장] TDF 2025 만기? 자산배분 조정 여부를 따져라\n",
      "https://n.news.naver.com/mnews/article/comment/016/0002454789 \n",
      "https://n.news.naver.com/mnews/article/021/0002701925 아워홈 공장 사고 직원 사망…구미현 대표 “머리 숙여 사과”\n",
      "https://n.news.naver.com/mnews/article/comment/021/0002701925 \n",
      "https://n.news.naver.com/mnews/article/016/0002454785 나신평 “美 관세, 국내 수출산업 저하 전망···2차전지 부담에 LG·SK·포스코 실적 둔화 우려” [투자360]\n",
      "https://n.news.naver.com/mnews/article/comment/016/0002454785 \n",
      "https://n.news.naver.com/mnews/article/003/0013172887 빚 못갚는 자영업자…새출발기금 신청자 12만명 육박\n",
      "https://n.news.naver.com/mnews/article/comment/003/0013172887 \n",
      "https://n.news.naver.com/mnews/article/003/0013172880 엔화 1000원 돌파…엔 노출 ETF 수익률 \"괜찮네\"\n",
      "https://n.news.naver.com/mnews/article/comment/003/0013172880 \n",
      "https://n.news.naver.com/mnews/article/658/0000103352 한화 김승연, 1분기 주식가치 45% 증가...방산 호황 영향\n",
      "https://n.news.naver.com/mnews/article/comment/658/0000103352 \n",
      "https://n.news.naver.com/mnews/article/016/0002454780 ‘용산 남영역 롯데캐슬 헤리티지’ 14일 청약\n",
      "https://n.news.naver.com/mnews/article/comment/016/0002454780 \n",
      "https://n.news.naver.com/mnews/article/030/0003301658 토스페이 “20만 가맹점 돌파 초읽기”…네이버·카카오페이 추격\n",
      "https://n.news.naver.com/mnews/article/comment/030/0003301658 \n",
      "https://n.news.naver.com/mnews/article/018/0005983149 1Q 그룹총수 43명 주식재산 1810억 줄어…김승연 회장 45%↑\n",
      "https://n.news.naver.com/mnews/article/comment/018/0005983149 \n",
      "https://n.news.naver.com/mnews/article/119/0002943167 일본 간 이재현 CJ 회장 \"K컬처 확산·사업 확장 기회 모색해야\"\n",
      "https://n.news.naver.com/mnews/article/comment/119/0002943167 \n",
      "https://n.news.naver.com/mnews/article/032/0003362214 서울~부산 16분? ‘꿈의 열차’ 가능할까\n",
      "https://n.news.naver.com/mnews/article/comment/032/0003362214 \n",
      "https://n.news.naver.com/mnews/article/366/0001067832 하이브 방시혁, 그룹 총수 중 올 1분기 주식 재산 증가 1위\n",
      "https://n.news.naver.com/mnews/article/comment/366/0001067832 \n",
      "https://n.news.naver.com/mnews/article/016/0002454778 ‘활용률 5%’ 부동산 전자계약 활성화 묘안 찾는다\n",
      "https://n.news.naver.com/mnews/article/comment/016/0002454778 \n",
      "https://n.news.naver.com/mnews/article/629/0000380460 1분기 주식평가액 희비…한화 김승연 '웃고', 셀트리온 서정진 '울고'\n",
      "https://n.news.naver.com/mnews/article/comment/629/0000380460 \n",
      "https://n.news.naver.com/mnews/article/015/0005116962 \"씨어스테크놀로지, 올해 입원환자모니터링 매출 급증 전망\"\n",
      "https://n.news.naver.com/mnews/article/comment/015/0005116962 \n",
      "https://n.news.naver.com/mnews/article/016/0002454776 서울~부산 20분 ‘하이퍼튜브’ 개발 착수\n",
      "https://n.news.naver.com/mnews/article/comment/016/0002454776 \n",
      "https://n.news.naver.com/mnews/article/277/0005575203 [집테크]정권 교체기, 주택시장이 흔들리지 않으려면\n",
      "https://n.news.naver.com/mnews/article/comment/277/0005575203 \n"
     ]
    }
   ],
   "source": [
    "import requests\n",
    "from bs4 import BeautifulSoup\n",
    "\n",
    "section_dict = {\n",
    "    100: \"정치\",\n",
    "    101: \"경제\",\n",
    "    102: \"사회\",\n",
    "    103: \"생활/문화\",\n",
    "    104: \"세계\",\n",
    "    105: \"IT/과학\",\n",
    "}\n",
    "\n",
    "def print_news(sid):  # print_new(103)\n",
    "    section = section_dict[sid]\n",
    "    url = f\"https://news.naver.com/section/{sid}\"\n",
    "    print(f\"=====> {url} {section} 뉴스 <=====\")\n",
    "\n",
    "    # 요청 헤더 설정 : 브라우저 정보 (사람처럼 보이게 하려고 설정하는 것임)\n",
    "    req_header = {\n",
    "        \"user-agent\": \"Mozilla/5.0 (Windows NT 10.0; Win64; x64) AppleWebKit/537.36 (KHTML, like Gecko) Chrome/104.0.0.0 Safari/537.36\"\n",
    "    }\n",
    "\n",
    "    # requests 의 get() 함수 호출하기\n",
    "    res = requests.get(url, headers=req_header)\n",
    "    print(res)\n",
    "    print(type(res))\n",
    "    print(res.status_code, res.ok)\n",
    "\n",
    "    # 응답(response)이 OK 이면\n",
    "    if res.ok:\n",
    "        # 응답 (response)에서 text 추출 - source 보기\n",
    "        html = res.text\n",
    "        # BeautifulSoup 객체 생성\n",
    "        soup = BeautifulSoup(html, \"html.parser\")\n",
    "        \n",
    "        print(len(soup.select(\"div.sa_text a[href*='mnews/article']\")))\n",
    "        a_tag_list = soup.select(\"div.sa_text a[href*='mnews/article']\")    \n",
    "        print(type(a_tag_list))  # [<a href=\"http://\">뉴스제목</a>] ResultSet객체 , <a></a> : Tag 객체\n",
    "        \n",
    "        for a_tag in a_tag_list:\n",
    "            # print(type(a_tag))\n",
    "            title = a_tag.text.strip()\n",
    "            # href 속성의 값을 가져오기\n",
    "            link = a_tag[\"href\"]\n",
    "            print(link, title)\n",
    "    else:\n",
    "        # 응답(response)이 Error 이면 status code 출력\n",
    "        print(f\"에러 코드 = {res.status_code}\")\n",
    "\n",
    "# 함수호출\n",
    "print_news(101)"
   ]
  },
  {
   "cell_type": "markdown",
   "id": "323196dc",
   "metadata": {},
   "source": [
    "### 2. Image 다운로드\n",
    "* referer 요청 헤더를 반드시 설정해야 한다."
   ]
  },
  {
   "cell_type": "code",
   "execution_count": 18,
   "id": "c72d6cb1",
   "metadata": {},
   "outputs": [
    {
     "name": "stdout",
     "output_type": "stream",
     "text": [
      "Writing to 20220804112251_d97bd1e1b38f0cd022e4e3639d2926b3_IMAG01_1.jpg(299,319 bytes) \n",
      "Writing to 20220804112251_d97bd1e1b38f0cd022e4e3639d2926b3_IMAG01_2.jpg(163,333 bytes) \n",
      "Writing to 20220804112251_d97bd1e1b38f0cd022e4e3639d2926b3_IMAG01_3.jpg(182,530 bytes) \n"
     ]
    }
   ],
   "source": [
    "import requests\n",
    "import os\n",
    "\n",
    "req_header = {\n",
    "    'referer': 'https://comic.naver.com/webtoon/detail?titleId=798173&no=5&amp;weekday=thu'\n",
    "}\n",
    "\n",
    "img_urls = [\n",
    "    'https://image-comic.pstatic.net/webtoon/798173/5/20220804112251_d97bd1e1b38f0cd022e4e3639d2926b3_IMAG01_1.jpg',\n",
    "    'https://image-comic.pstatic.net/webtoon/798173/5/20220804112251_d97bd1e1b38f0cd022e4e3639d2926b3_IMAG01_2.jpg',\n",
    "    'https://image-comic.pstatic.net/webtoon/798173/5/20220804112251_d97bd1e1b38f0cd022e4e3639d2926b3_IMAG01_3.jpg'\n",
    "]\n",
    "\n",
    "for img_url in img_urls:\n",
    "    # requests 의 get(url, headers) 함수 호출하기 \n",
    "    res = requests.get(img_url, headers=req_header)\n",
    "    if res.ok:    \n",
    "        # binary 응답 데이터 가져오기 content 프로퍼티를 사용\n",
    "        img_data =res.content\n",
    "        # url에서 파일명만 추출하기\n",
    "        file_name = os.path.basename(img_url)\n",
    "        # binday data를 file에 write하기\n",
    "        with open(file_name,'wb') as file:\n",
    "            print(f'Writing to {file_name}({len(img_data):,} bytes) ')\n",
    "            file.write(img_data)\n"
   ]
  },
  {
   "cell_type": "markdown",
   "id": "e8b00a04",
   "metadata": {},
   "source": [
    "* 현재 요청된 페이지의 image 모두 다운로드 해보기"
   ]
  },
  {
   "cell_type": "code",
   "execution_count": 33,
   "id": "b30f7bf5",
   "metadata": {},
   "outputs": [
    {
     "name": "stdout",
     "output_type": "stream",
     "text": [
      "19\n",
      "71\n",
      "71\n",
      "19 ['https://image-comic.pstatic.net/webtoon/833255/35/20250107185236_7c4b279b6b7816fb2920b82077a98786_IMAG01_1.jpg', 'https://image-comic.pstatic.net/webtoon/833255/35/20250107185236_7c4b279b6b7816fb2920b82077a98786_IMAG01_2.jpg']\n"
     ]
    }
   ],
   "source": [
    "import requests\n",
    "from bs4 import BeautifulSoup\n",
    "\n",
    "url = 'https://comic.naver.com/webtoon/detail?titleId=833255&no=35&week=tue'\n",
    "req_header = {\n",
    "    'referer': url\n",
    "}\n",
    "res = requests.get(url)\n",
    "if res.ok:\n",
    "    # jpg 파일의 절대경로 url를 찾기\n",
    "    soup = BeautifulSoup(res.text, 'html.parser')\n",
    "    print(len(soup.select(\"img[src*='IMAG01']\"))) #19\n",
    "    print(len(soup.select(\"img[src$='.jpg']\"))) #71\n",
    "    print(len(soup.select(\"img[src^='https://image-comic']\"))) #71\n",
    "    \n",
    "    img_tags = soup.select(\"img[src*='IMAG01']\")\n",
    "    img_url_list = list()\n",
    "    for img_tag in img_tags:\n",
    "        #print(type(img_tag), img_tag.name, img_tag)\n",
    "        img_src = img_tag['src']\n",
    "        img_url_list.append(img_src)\n",
    "        imgdir_name = 'img'\n",
    "        \n",
    "    print(len(img_url_list), img_url_list[:2])\n",
    "        \n",
    "else:\n",
    "    print(f'Error Code = {res.status_code}')"
   ]
  },
  {
   "cell_type": "markdown",
   "id": "2ac9f5f9",
   "metadata": {},
   "source": [
    "### 3. 파일 업로드 하기\n",
    "* http://httpbin.org/post 업로드 요청을 할 수 있는 url"
   ]
  },
  {
   "cell_type": "code",
   "execution_count": 24,
   "id": "04da4790",
   "metadata": {},
   "outputs": [],
   "source": [
    "import requests\n",
    "\n",
    "upload_files = {\n",
    "    \n",
    "}\n",
    "#print(upload_files)\n",
    "\n",
    "url = 'http://httpbin.org/post'\n",
    "# file 업로드 하려면 requests의 post 함수에 files 속성을 사용합니다.\n",
    "\n",
    "# select('ul.list_newsheadline2 li') [<li></li>,<li></li>]\n",
    "\n"
   ]
  },
  {
   "cell_type": "markdown",
   "id": "7ad65f12",
   "metadata": {},
   "source": [
    "### 4. 캡챠(이미지) API 호출하기\n",
    "* urllib 사용\n",
    "* 1. 캡차 키 발급 요청\n",
    "  2. 캡차 이미지 요청\n",
    "  3. 사용자 입력값 검증 요청"
   ]
  },
  {
   "cell_type": "code",
   "execution_count": 27,
   "id": "bc4ae360-e772-4873-8642-d3494edd34e1",
   "metadata": {},
   "outputs": [],
   "source": [
    "# 캡차 키 발급 요청\n"
   ]
  },
  {
   "cell_type": "code",
   "execution_count": 1,
   "id": "7b95b6a0-c218-4792-82a6-da4d80872071",
   "metadata": {},
   "outputs": [],
   "source": [
    "# 캡차 이미지 요청\n"
   ]
  },
  {
   "cell_type": "code",
   "execution_count": 3,
   "id": "a79076af-2cd0-4de2-8301-316b9130c55e",
   "metadata": {},
   "outputs": [],
   "source": [
    "#  사용자 입력값 검증 요청\n",
    "\n"
   ]
  },
  {
   "cell_type": "markdown",
   "id": "b7d984a6",
   "metadata": {},
   "source": [
    "* requests를 사용하는 코드로 변경하기\n",
    "* [requests docs](https://requests.readthedocs.io/en/latest/user/quickstart/)"
   ]
  },
  {
   "cell_type": "code",
   "execution_count": null,
   "id": "727b427b",
   "metadata": {
    "scrolled": true
   },
   "outputs": [
    {
     "name": "stdout",
     "output_type": "stream",
     "text": [
      "Error Code: 403\n"
     ]
    }
   ],
   "source": [
    "# 사용자 입력값 검증 요청\n",
    "\n"
   ]
  },
  {
   "cell_type": "markdown",
   "id": "d5e1179a",
   "metadata": {},
   "source": [
    "### 5. 블로그 검색하기"
   ]
  },
  {
   "cell_type": "code",
   "execution_count": null,
   "id": "877d0c7f",
   "metadata": {},
   "outputs": [],
   "source": [
    "import requests\n",
    "import pprint\n",
    "\n",
    "headers = {\n",
    "    'X-Naver-Client-Id': '',\n",
    "    'X-Naver-Client-Secret': '',\n",
    "}\n",
    "\n",
    "payload = {\n",
    "    'query': '파이썬',\n",
    "    'display': 100,\n",
    "    'sort': 'sim'\n",
    "}\n",
    "\n",
    "url = 'https://openapi.naver.com/v1/search/blog.json'\n",
    "\n",
    "\n",
    "# requests get(url, params, headers) 요청 \n",
    "\n",
    "# json() 함수로 응답 결과 가져오오기\n",
    "# 'title' , 'bloggername' , 'description' , 'bloggerlink' , 'link'\n",
    "\n",
    "# 'data/nhnblog.txt' 파일 생성하기\n"
   ]
  }
 ],
 "metadata": {
  "kernelspec": {
   "display_name": "Python 3 (ipykernel)",
   "language": "python",
   "name": "python3"
  },
  "language_info": {
   "codemirror_mode": {
    "name": "ipython",
    "version": 3
   },
   "file_extension": ".py",
   "mimetype": "text/x-python",
   "name": "python",
   "nbconvert_exporter": "python",
   "pygments_lexer": "ipython3",
   "version": "3.12.7"
  }
 },
 "nbformat": 4,
 "nbformat_minor": 5
}
