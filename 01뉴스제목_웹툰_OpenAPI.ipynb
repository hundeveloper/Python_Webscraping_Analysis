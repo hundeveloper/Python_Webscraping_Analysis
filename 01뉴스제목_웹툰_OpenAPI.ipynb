{
 "cells": [
  {
   "cell_type": "code",
   "execution_count": 6,
   "id": "d9391b4d-4da2-4d83-ba52-785d875e616f",
   "metadata": {},
   "outputs": [
    {
     "name": "stdout",
     "output_type": "stream",
     "text": [
      "Name: requests\n",
      "Version: 2.32.3\n",
      "Summary: Python HTTP for Humans.\n",
      "Home-page: https://requests.readthedocs.io\n",
      "Author: Kenneth Reitz\n",
      "Author-email: me@kennethreitz.org\n",
      "License: Apache-2.0\n",
      "Location: C:\\Users\\hun\\anaconda3\\Lib\\site-packages\n",
      "Requires: certifi, charset-normalizer, idna, urllib3\n",
      "Required-by: aext-assistant-server, anaconda-catalogs, anaconda-client, anaconda-cloud-auth, anaconda-project, conda, conda-build, conda-repo-cli, conda_package_streaming, cookiecutter, datashader, jupyterlab_server, panel, requests-file, requests-toolbelt, Sphinx, streamlit, tldextract, webdriver-manager\n",
      "Note: you may need to restart the kernel to use updated packages.\n"
     ]
    }
   ],
   "source": [
    "# requests 라이브러리 설치여부 확인\n",
    "%pip show requests"
   ]
  },
  {
   "cell_type": "code",
   "execution_count": 7,
   "id": "86b13378-27a3-4fa3-9e3a-866412440485",
   "metadata": {},
   "outputs": [
    {
     "name": "stdout",
     "output_type": "stream",
     "text": [
      "Name: beautifulsoup4\n",
      "Version: 4.12.3\n",
      "Summary: Screen-scraping library\n",
      "Home-page: https://www.crummy.com/software/BeautifulSoup/bs4/\n",
      "Author: \n",
      "Author-email: Leonard Richardson <leonardr@segfault.org>\n",
      "License: MIT License\n",
      "Location: C:\\Users\\hun\\anaconda3\\Lib\\site-packages\n",
      "Requires: soupsieve\n",
      "Required-by: conda-build, nbconvert\n",
      "Note: you may need to restart the kernel to use updated packages.\n"
     ]
    }
   ],
   "source": [
    "# beautifulsoup4 라이브러리 설치여부 확인\n",
    "%pip show beautifulsoup4"
   ]
  },
  {
   "cell_type": "code",
   "execution_count": 8,
   "id": "75d5a673-7829-48e0-94b1-bb2b681f0190",
   "metadata": {},
   "outputs": [],
   "source": [
    "# reqeusts, bs4 import\n",
    "import requests\n",
    "import bs4\n",
    "# BeautifulSoup 클래스 import\n",
    "from bs4 import BeautifulSoup"
   ]
  },
  {
   "cell_type": "code",
   "execution_count": 9,
   "id": "43a4f280-fa63-48d1-8e8e-0196c43aee97",
   "metadata": {},
   "outputs": [
    {
     "name": "stdout",
     "output_type": "stream",
     "text": [
      "requests 버전 2.32.3\n",
      "beautifulsoup4 버전 4.12.3\n"
     ]
    }
   ],
   "source": [
    "# requests, bs4 버전 확인하기\n",
    "print(f'requests 버전 {requests.__version__}')\n",
    "print(f'beautifulsoup4 버전 {bs4.__version__}')"
   ]
  },
  {
   "cell_type": "code",
   "execution_count": 15,
   "id": "cb7f65dd-c2cb-4b0d-ab06-1cf474cd555a",
   "metadata": {},
   "outputs": [
    {
     "name": "stdout",
     "output_type": "stream",
     "text": [
      "https://news.naver.com/section/105\n",
      "<Response [200]>\n",
      "<class 'requests.models.Response'>\n",
      "200 True\n",
      "88\n",
      "<class 'bs4.element.ResultSet'>\n",
      "https://n.news.naver.com/mnews/article/014/0005333051 롯데건설 \"AI 혁신 스타트업 모집\"\n",
      "https://n.news.naver.com/mnews/article/comment/014/0005333051 \n",
      "https://n.news.naver.com/mnews/article/008/0005177946 LGU+ '와이파이7·도어캠' 레드닷 디자인 어워드 본상 수상\n",
      "https://n.news.naver.com/mnews/article/comment/008/0005177946 \n",
      "https://n.news.naver.com/mnews/article/008/0005178054 SW 고성장 클럽 참여사 37곳 신규 선정... \"AI 분야 73%\"\n",
      "https://n.news.naver.com/mnews/article/comment/008/0005178054 \n",
      "https://n.news.naver.com/mnews/article/030/0003301566 씨젠, 무인 PCR 검사기기 7월 공개\n",
      "https://n.news.naver.com/mnews/article/comment/030/0003301566 \n",
      "https://n.news.naver.com/mnews/article/030/0003301687 우주청, 트럼프 2기 출범 후 첫 NASA 수장 회담…아르테미스 협력 등 논의\n",
      "https://n.news.naver.com/mnews/article/comment/030/0003301687 \n",
      "https://n.news.naver.com/mnews/article/018/0005982342 AI 접목한 CCTV·센서로 로드킬 막는다\n",
      "https://n.news.naver.com/mnews/article/comment/018/0005982342 \n",
      "https://n.news.naver.com/mnews/article/030/0003301699 컴투스, 게임개발 공모전 '컴:온' 수상작 발표... 대상에 'Spire of Might & Magic'\n",
      "https://n.news.naver.com/mnews/article/comment/030/0003301699 \n",
      "https://n.news.naver.com/mnews/article/366/0001067852 주택 가격 높은 동네가 공기 질은 더 나쁘다\n",
      "https://n.news.naver.com/mnews/article/comment/366/0001067852 \n",
      "https://n.news.naver.com/mnews/article/366/0001067902 카카오, 카카오엔터 매각설에 “주주와 다양한 방안 검토 중”\n",
      "https://n.news.naver.com/mnews/article/comment/366/0001067902 \n",
      "https://n.news.naver.com/mnews/article/138/0002194336 삼성전기·LG이노텍, 계절적 비수기 넘고 웃을까…美 관세·수요 위축은 변수\n",
      "https://n.news.naver.com/mnews/article/comment/138/0002194336 \n",
      "https://n.news.naver.com/mnews/article/092/0002369973 \"러시아·중국, 스페이스X 스타링크 무력화 시도 중\"\n",
      "https://n.news.naver.com/mnews/article/comment/092/0002369973 \n",
      "https://n.news.naver.com/mnews/article/030/0003301758 이재용 회장, 일본 출장 마치고 귀국…글로벌 행보 지속\n",
      "https://n.news.naver.com/mnews/article/comment/030/0003301758 \n",
      "https://n.news.naver.com/mnews/article/092/0002369971 이재명, 대선 레이스 돌입...당 대표직 사퇴\n",
      "https://n.news.naver.com/mnews/article/comment/092/0002369971 \n",
      "https://n.news.naver.com/mnews/article/003/0013173428 카카오 \"카카오엔터 매각, 확정된 사항 아니다\"\n",
      "https://n.news.naver.com/mnews/article/comment/003/0013173428 \n",
      "https://n.news.naver.com/mnews/article/030/0003301722 “HBM 늦어질라”…SK하이닉스, 美  반도체 공장 건설 위해 현지 주민 설득 나서\n",
      "https://n.news.naver.com/mnews/article/comment/030/0003301722 \n",
      "https://n.news.naver.com/mnews/article/032/0003362237 결국 머스크 생각대로?…NASA 국장 지명자 “달보다 화성 진출 우선”\n",
      "https://n.news.naver.com/mnews/article/comment/032/0003362237 \n",
      "https://n.news.naver.com/mnews/article/015/0005116996 서정진 회장 사재털어 셀트리온 주식 500억원 어치 취득\n",
      "https://n.news.naver.com/mnews/article/comment/015/0005116996 \n",
      "https://n.news.naver.com/mnews/article/023/0003898497 우주로 진출하는 지드래곤…비틀즈 이어 국내 최초 음원·뮤비 우주 송출\n",
      "https://n.news.naver.com/mnews/article/comment/023/0003898497 \n",
      "https://n.news.naver.com/mnews/article/092/0002369968 신생아 선별검사, 현 민간 무분별 시행 대신 국가 주도 체계화해야\n",
      "https://n.news.naver.com/mnews/article/comment/092/0002369968 \n",
      "https://n.news.naver.com/mnews/article/421/0008182487 상급종합병원 중증수술 35% 증가…\"중증·응급·희귀 전환 본격화\"\n",
      "https://n.news.naver.com/mnews/article/comment/421/0008182487 \n",
      "https://n.news.naver.com/mnews/article/021/0002701955 “소행성 충돌전 공룡 멸종설은 틀렸다”\n",
      "https://n.news.naver.com/mnews/article/comment/021/0002701955 \n",
      "https://n.news.naver.com/mnews/article/018/0005983193 카카오 노조 \"계열사 사모펀드로 매각 반대\"\n",
      "https://n.news.naver.com/mnews/article/comment/018/0005983193 \n",
      "https://n.news.naver.com/mnews/article/025/0003432955 \"1인당 월 배달앱 지출 10만원 육박\"…코로나 이후 역대 최대\n",
      "https://n.news.naver.com/mnews/article/comment/025/0003432955 \n",
      "https://n.news.naver.com/mnews/article/584/0000031799 그래핀으로 빛 세기 따라 투명도 변하는 필름 개발\n",
      "https://n.news.naver.com/mnews/article/comment/584/0000031799 \n",
      "https://n.news.naver.com/mnews/article/584/0000031798 서버 안 올려도 셀카를 지브리풍으로…사생활 보호하는 AI\n",
      "https://n.news.naver.com/mnews/article/comment/584/0000031798 \n",
      "https://n.news.naver.com/mnews/article/009/0005473341 ‘지브리 프사’ 내 얼굴사진 안올려도 된다고? 사생활 침해 막는 AI 개발\n",
      "https://n.news.naver.com/mnews/article/comment/009/0005473341 \n",
      "https://n.news.naver.com/mnews/article/003/0013173007 인스타 이어 페북·메신저도 청소년 하루 1시간 이용 제한…한국은?\n",
      "https://n.news.naver.com/mnews/article/comment/003/0013173007 \n",
      "https://n.news.naver.com/mnews/article/030/0003301674 삼성전자, 스마트싱스와 '삼성 헬스' 연동…“잠들면 TV 자동으로 꺼진다”\n",
      "https://n.news.naver.com/mnews/article/comment/030/0003301674 \n",
      "https://n.news.naver.com/mnews/article/018/0005983173 \"PCR도 자동화된다\"...씨젠, 유럽서 큐레카 실물 공개\n",
      "https://n.news.naver.com/mnews/article/comment/018/0005983173 \n",
      "https://n.news.naver.com/mnews/article/092/0002369955 [1분건강] 폭싹 속았수다 양관식이 앓던 ‘다발성 골수종’ 무엇\n",
      "https://n.news.naver.com/mnews/article/comment/092/0002369955 \n",
      "https://n.news.naver.com/mnews/article/092/0002369950 아워홈 용인공장 사고 직원 사망…구미현 대표 \"깊은 애도\"\n",
      "https://n.news.naver.com/mnews/article/comment/092/0002369950 \n",
      "https://n.news.naver.com/mnews/article/277/0005575207 \"암 입니다\" 진단에서도 인간을 능가했다…\"인간 의사 단독은 성능 낮아\"\n",
      "https://n.news.naver.com/mnews/article/comment/277/0005575207 \n",
      "https://n.news.naver.com/mnews/article/092/0002369949 1Q 총수 주식재산, 방시혁 급등 서정진 급락…이재용, 1위 유지\n",
      "https://n.news.naver.com/mnews/article/comment/092/0002369949 \n",
      "https://n.news.naver.com/mnews/article/092/0002369948 [1분건강] 구강 및 안구의 건조가 지속되는 ‘쇼그렌증후군’\n",
      "https://n.news.naver.com/mnews/article/comment/092/0002369948 \n",
      "https://n.news.naver.com/mnews/article/023/0003898477 “네안데르탈인, 중국에도 있었을 가능성 있다”\n",
      "https://n.news.naver.com/mnews/article/comment/023/0003898477 \n",
      "https://n.news.naver.com/mnews/article/584/0000031796 \"위성으로 본 공기, 부자 동네가 더 오염됐다\"\n",
      "https://n.news.naver.com/mnews/article/comment/584/0000031796 \n",
      "https://n.news.naver.com/mnews/article/092/0002369943 트럼프, AI 데이터센터 전력난에 '석탄 부활' 선언\n",
      "https://n.news.naver.com/mnews/article/comment/092/0002369943 \n",
      "https://n.news.naver.com/mnews/article/092/0002369942 차세대 iOS19 어떻게 나오나…루머 총정리\n",
      "https://n.news.naver.com/mnews/article/comment/092/0002369942 \n",
      "https://n.news.naver.com/mnews/article/092/0002369941 중소 PC 제조사, 관세 부담에 미국 내 판매 중단\n",
      "https://n.news.naver.com/mnews/article/comment/092/0002369941 \n",
      "https://n.news.naver.com/mnews/article/014/0005333407 크래프톤, 인도서 사용자 데이터 유출로 고발...인도 시장 확장에 '찬물'\n",
      "https://n.news.naver.com/mnews/article/comment/014/0005333407 \n",
      "https://n.news.naver.com/mnews/article/092/0002369939 우아한청년들, 배달료 통합개편 했더니...라이더 평균 소득 11%↑\n",
      "https://n.news.naver.com/mnews/article/comment/092/0002369939 \n",
      "https://n.news.naver.com/mnews/article/277/0005575174 [최고기술자에게 듣는다]⑧\"말로 로밍 가입까지…가장 사람같은 AI 상담원 선보일 것\"\n",
      "https://n.news.naver.com/mnews/article/comment/277/0005575174 \n",
      "https://n.news.naver.com/mnews/article/009/0005473277 부자동네는 공기부터 다르다더니...“정말 그렇네” 위성사진 분석 결과는\n",
      "https://n.news.naver.com/mnews/article/comment/009/0005473277 \n",
      "https://n.news.naver.com/mnews/article/138/0002194322 유라클, 자사주 처분 계획 없다…임직원 스톡옵션은 자사주 지급 검토\n",
      "https://n.news.naver.com/mnews/article/comment/138/0002194322 \n"
     ]
    }
   ],
   "source": [
    "# IT/과학 뉴스\n",
    "req_param = {\"sid\": 105}\n",
    "#\n",
    "url = \"https://news.naver.com/section/{sid}\".format(**req_param)\n",
    "print(url)\n",
    "\n",
    "# url2 = 'https://news.naver.com/section/105'\n",
    "\n",
    "# 요청 헤더 설정 : 브라우저 정보 (사람처럼 보이게 하려고 설정하는 것임)\n",
    "req_header = {\n",
    "    \"user-agent\": \"Mozilla/5.0 (Windows NT 10.0; Win64; x64) AppleWebKit/537.36 (KHTML, like Gecko) Chrome/104.0.0.0 Safari/537.36\"\n",
    "}\n",
    "\n",
    "# requests 의 get() 함수 호출하기\n",
    "res = requests.get(url, headers=req_header)\n",
    "print(res)\n",
    "print(type(res))\n",
    "print(res.status_code, res.ok)\n",
    "\n",
    "# 응답(response)이 OK 이면\n",
    "if res.ok:\n",
    "    # 응답 (response)에서 text 추출 - source 보기\n",
    "    html = res.text\n",
    "    # BeautifulSoup 객체 생성\n",
    "    soup = BeautifulSoup(html, \"html.parser\")\n",
    "    # print(soup)\n",
    "    # CSS 선택자\n",
    "    # <div class='sa_text'><a href=''></a></div>\n",
    "    print(len(soup.select(\"div.sa_text a[href*='mnews/article']\")))\n",
    "    a_tag_list = soup.select(\"div.sa_text a[href*='mnews/article']\")\n",
    "    print(\n",
    "        type(a_tag_list)\n",
    "    )  # [<a href=\"http://\">뉴스제목</a>] ResultSet객체 , <a></a> : Tag 객체\n",
    "    for a_tag in a_tag_list:\n",
    "        # print(type(a_tag))\n",
    "        title = a_tag.text.strip()\n",
    "        # href 속성의 값을 가져오기\n",
    "        link = a_tag[\"href\"]\n",
    "        print(link, title)\n",
    "else:\n",
    "    # 응답(response)이 Error 이면 status code 출력\n",
    "    print(f\"에러 코드 = {res.status_code}\")"
   ]
  },
  {
   "cell_type": "code",
   "execution_count": 19,
   "id": "eb348dfa-1a29-477d-9acc-593797c25fd6",
   "metadata": {},
   "outputs": [
    {
     "name": "stdout",
     "output_type": "stream",
     "text": [
      "=====> https://news.naver.com/section/101 경제 뉴스 <=====\n",
      "-----\n",
      "<Response [200]>\n",
      "<class 'requests.models.Response'>\n",
      "200 True\n",
      "<class 'bs4.element.ResultSet'>\n",
      "-----\n",
      "https://n.news.naver.com/mnews/article/020/0003627028 원·달러 환율 장중 1487원…금융위기 후 최고\n",
      "-----\n",
      "https://n.news.naver.com/mnews/article/comment/020/0003627028 \n",
      "-----\n",
      "https://n.news.naver.com/mnews/article/215/0001205078 WGBI 편입 내년으로…금융시장 악재 되나\n",
      "-----\n",
      "https://n.news.naver.com/mnews/article/comment/215/0001205078 \n",
      "-----\n",
      "https://n.news.naver.com/mnews/article/586/0000100970 구미현 아워홈 대표, 직원 사망사고에 \"머리 숙여 사과\"\n",
      "-----\n",
      "https://n.news.naver.com/mnews/article/comment/586/0000100970 \n",
      "-----\n",
      "https://n.news.naver.com/mnews/article/018/0005982349 소매시장 체감경기 4분기째 뒷걸음질…\"추경 시급\"\n",
      "-----\n",
      "https://n.news.naver.com/mnews/article/comment/018/0005982349 \n",
      "-----\n",
      "https://n.news.naver.com/mnews/article/016/0002454613 삼성 ‘스마트싱스’ 수면최적화 돕는다\n",
      "-----\n",
      "https://n.news.naver.com/mnews/article/comment/016/0002454613 \n",
      "-----\n",
      "https://n.news.naver.com/mnews/article/001/0015319811 금감원, 10개 대부업체 특별 현장점검…\"불법추심 무관용 대처\"\n",
      "-----\n",
      "https://n.news.naver.com/mnews/article/comment/001/0015319811 \n",
      "-----\n",
      "https://n.news.naver.com/mnews/article/021/0002702006 3월 취업자 19.3만명 늘었지만… 건설·제조업·청년 ‘고용 한파’ 여전\n",
      "-----\n",
      "https://n.news.naver.com/mnews/article/comment/021/0002702006 \n",
      "-----\n",
      "https://n.news.naver.com/mnews/article/374/0000434203 금양·삼부토건 '위태'…코스피 14개사 상장폐지 위기\n",
      "-----\n",
      "https://n.news.naver.com/mnews/article/comment/374/0000434203 \n",
      "-----\n",
      "https://n.news.naver.com/mnews/article/008/0005177991 도심 속 흉물로 방치된 '빈집' 13만채…맞춤형 정비 방안 찾는다\n",
      "-----\n",
      "https://n.news.naver.com/mnews/article/comment/008/0005177991 \n",
      "-----\n",
      "https://n.news.naver.com/mnews/article/008/0005177796 서울~부산 '20분' 꿈의 열차 달린다…하이퍼튜브 개발 본격화\n",
      "-----\n",
      "https://n.news.naver.com/mnews/article/comment/008/0005177796 \n",
      "-----\n",
      "https://n.news.naver.com/mnews/article/015/0005117016 '블랙 먼데이 악몽'…하루만에 2000억 대피 나선 상품 [분석+]\n",
      "-----\n",
      "https://n.news.naver.com/mnews/article/comment/015/0005117016 \n",
      "-----\n",
      "https://n.news.naver.com/mnews/article/018/0005983256 HLB “CMC 문제 수정 보완 가능, FDA 심사 미중 갈등 영향 없어”\n",
      "-----\n",
      "https://n.news.naver.com/mnews/article/comment/018/0005983256 \n",
      "-----\n",
      "https://n.news.naver.com/mnews/article/215/0001205149 中증시, 급락 이후 반등 모색… 추가 부양책 기대감 부각 [프리마켓온]\n",
      "-----\n",
      "https://n.news.naver.com/mnews/article/comment/215/0001205149 \n",
      "-----\n",
      "https://n.news.naver.com/mnews/article/366/0001067901 ‘철산자이 더 헤리티지’ 추가 공사비 갈등 봉합… GS건설 요구 금액 절반 수준인 520억 합의\n",
      "-----\n",
      "https://n.news.naver.com/mnews/article/comment/366/0001067901 \n",
      "-----\n",
      "https://n.news.naver.com/mnews/article/421/0008182764 '美·中 관세 전쟁 충격' 천장 뚫린 환율…1500원 초읽기\n",
      "-----\n",
      "https://n.news.naver.com/mnews/article/comment/421/0008182764 \n",
      "-----\n",
      "https://n.news.naver.com/mnews/article/119/0002943244 '상저하고' 삼성전자, '상고하저' LG전자?\n",
      "-----\n",
      "https://n.news.naver.com/mnews/article/comment/119/0002943244 \n",
      "-----\n",
      "https://n.news.naver.com/mnews/article/030/0003301760 국제유가 코로나 이후 최저점 공포…정유업계는 한숨만\n",
      "-----\n",
      "https://n.news.naver.com/mnews/article/comment/030/0003301760 \n",
      "-----\n",
      "https://n.news.naver.com/mnews/article/243/0000076047 시구·시타·애국가 제창하면 100만원…‘역대급 알바’ 솔깃\n",
      "-----\n",
      "https://n.news.naver.com/mnews/article/comment/243/0000076047 \n",
      "-----\n",
      "https://n.news.naver.com/mnews/article/648/0000035179 유니드 '원재료 가격↓·판가↑·환율↑' 3박자…증권사 호평\n",
      "-----\n",
      "https://n.news.naver.com/mnews/article/comment/648/0000035179 \n",
      "-----\n",
      "https://n.news.naver.com/mnews/article/366/0001067896 흔들리는 한국 경제 ‘두 기둥’… 건설·제조업 ‘고용 한파’ 이어진다\n",
      "-----\n",
      "https://n.news.naver.com/mnews/article/comment/366/0001067896 \n",
      "-----\n",
      "https://n.news.naver.com/mnews/article/215/0001205147 연준 '구원투수' 등판할까…\"내년까지 금리인하 어려워\"\n",
      "-----\n",
      "https://n.news.naver.com/mnews/article/comment/215/0001205147 \n",
      "-----\n",
      "https://n.news.naver.com/mnews/article/215/0001205146 \"변동성 쉽게 잡히지 않을 것\"…美주식에 등 돌리는 월가\n",
      "-----\n",
      "https://n.news.naver.com/mnews/article/comment/215/0001205146 \n",
      "-----\n",
      "https://n.news.naver.com/mnews/article/003/0013173455 일본 출장 마친 이재용 삼성전자 회장 귀국… 질문엔 미소만 [뉴시스Pic]\n",
      "-----\n",
      "https://n.news.naver.com/mnews/article/comment/003/0013173455 \n",
      "-----\n",
      "https://n.news.naver.com/mnews/article/003/0013173450 스포티한 패밀리카의 정석…'더 뉴 아우디 Q6 e-트론'[시승기]\n",
      "-----\n",
      "https://n.news.naver.com/mnews/article/comment/003/0013173450 \n",
      "-----\n",
      "https://n.news.naver.com/mnews/article/215/0001205144 \"박스권 탈출 어려워\"…월가 강세론자마저 돌아섰다\n",
      "-----\n",
      "https://n.news.naver.com/mnews/article/comment/215/0001205144 \n",
      "-----\n",
      "https://n.news.naver.com/mnews/article/215/0001205143 범양건영·금양·삼부토건 등…57개사 '상폐' 위기\n",
      "-----\n",
      "https://n.news.naver.com/mnews/article/comment/215/0001205143 \n",
      "-----\n",
      "https://n.news.naver.com/mnews/article/030/0003301750 안덕근 산업장관 “조선, 대미 협상 카드...긍정 시그널 나오고 있어”\n",
      "-----\n",
      "https://n.news.naver.com/mnews/article/comment/030/0003301750 \n",
      "-----\n",
      "https://n.news.naver.com/mnews/article/030/0003301748 '꿈의 열차' 하이퍼튜브 시동…핵심기술 개발·예타 재추진\n",
      "-----\n",
      "https://n.news.naver.com/mnews/article/comment/030/0003301748 \n",
      "-----\n",
      "https://n.news.naver.com/mnews/article/030/0003301746 금감원, 카카오페이에 150억원 과징금…“역대 최대 규모”\n",
      "-----\n",
      "https://n.news.naver.com/mnews/article/comment/030/0003301746 \n",
      "-----\n",
      "https://n.news.naver.com/mnews/article/277/0005575297 초봉 6500만원에도 '은행 입사 포기' 속출…어디로 갔나 봤더니\n",
      "-----\n",
      "https://n.news.naver.com/mnews/article/comment/277/0005575297 \n",
      "-----\n",
      "https://n.news.naver.com/mnews/article/422/0000729400 [경제읽기] 원·달러 환율 장중 1487원…금융위기 후 최고\n",
      "-----\n",
      "https://n.news.naver.com/mnews/article/comment/422/0000729400 \n",
      "-----\n",
      "https://n.news.naver.com/mnews/article/011/0004472048 이재용, 日 출장 마치고 귀국…글로벌 행보 이어간다\n",
      "-----\n",
      "https://n.news.naver.com/mnews/article/comment/011/0004472048 \n",
      "-----\n",
      "https://n.news.naver.com/mnews/article/243/0000076046 트럼프, 석탄 산업 불 지폈다…“지구 온난화 신경 꺼”\n",
      "-----\n",
      "https://n.news.naver.com/mnews/article/comment/243/0000076046 \n",
      "-----\n",
      "https://n.news.naver.com/mnews/article/277/0005575296 에이비엘바이오 \"'그랩바디-B', 추가 기술이전 추진\"\n",
      "-----\n",
      "https://n.news.naver.com/mnews/article/comment/277/0005575296 \n",
      "-----\n",
      "https://n.news.naver.com/mnews/article/119/0002943238 K-방산, 60일 국정공백 리스크…수출 신뢰 ‘시험대’\n",
      "-----\n",
      "https://n.news.naver.com/mnews/article/comment/119/0002943238 \n",
      "-----\n",
      "https://n.news.naver.com/mnews/article/009/0005473371 역시 관리의 삼성...내가 잠들면 보던 TV, 조명도 자동으로 꺼진다는데\n",
      "-----\n",
      "https://n.news.naver.com/mnews/article/comment/009/0005473371 \n",
      "-----\n",
      "https://n.news.naver.com/mnews/article/032/0003362244 미국 반도체 기업 마이크론, 일부 제품에 ‘트럼프 관세’ 요금 부과하기로\n",
      "-----\n",
      "https://n.news.naver.com/mnews/article/comment/032/0003362244 \n",
      "-----\n",
      "https://n.news.naver.com/mnews/article/014/0005333477 \"관세전쟁 이어 환율전쟁 대비\" KODEX 미국 환헷지(H) 상품에 개미들 매수 ↑\n",
      "-----\n",
      "https://n.news.naver.com/mnews/article/comment/014/0005333477 \n",
      "-----\n",
      "https://n.news.naver.com/mnews/article/052/0002177662 대미 수출품 25% 관세 부과 시작...이 시각 수출 현장\n",
      "-----\n",
      "https://n.news.naver.com/mnews/article/comment/052/0002177662 \n",
      "-----\n",
      "https://n.news.naver.com/mnews/article/052/0002177663 네이버쇼핑몰 묶음상품 알고 보니...눈 뜨고 코 베인 구매자들 [지금이뉴스]\n",
      "-----\n",
      "https://n.news.naver.com/mnews/article/comment/052/0002177663 \n",
      "-----\n",
      "https://n.news.naver.com/mnews/article/277/0005575290 셀트리온 서정진, 500억 규모 자사주 매수\n",
      "-----\n",
      "https://n.news.naver.com/mnews/article/comment/277/0005575290 \n",
      "-----\n",
      "https://n.news.naver.com/mnews/article/018/0005983243 JP모건 “美경기침체 가능성, 소형주 지수 기준 79% 급증”\n",
      "-----\n",
      "https://n.news.naver.com/mnews/article/comment/018/0005983243 \n",
      "-----\n",
      "https://n.news.naver.com/mnews/article/658/0000103365 트럼프發 조선업 호황, 한국이 잡는다…중소 조선사 RG 발급 확대\n",
      "-----\n",
      "https://n.news.naver.com/mnews/article/comment/658/0000103365 \n",
      "-----\n",
      "https://n.news.naver.com/mnews/article/629/0000380544 [TF현장] 국민의힘 5대 시중은행장 소환…조용병 \"이달 중 소상공인 금융지원 발표\"\n",
      "-----\n",
      "https://n.news.naver.com/mnews/article/comment/629/0000380544 \n",
      "-----\n",
      "https://n.news.naver.com/mnews/article/081/0003532047 [서울데이터랩]금일 증시 거래량 1위 동양철관 거래대금 무려 1,668억원 돌파\n",
      "-----\n",
      "https://n.news.naver.com/mnews/article/comment/081/0003532047 \n",
      "-----\n",
      "https://n.news.naver.com/mnews/article/665/0000004809 무역적자 탓에 관세 전쟁? 트럼프의 뻔한 거짓말 [마켓톡톡]\n",
      "-----\n",
      "https://n.news.naver.com/mnews/article/comment/665/0000004809 \n"
     ]
    }
   ],
   "source": [
    "import requests\n",
    "from bs4 import BeautifulSoup\n",
    "\n",
    "section_dict = {\n",
    "    100: \"정치\",\n",
    "    101: \"경제\",\n",
    "    102: \"사회\",\n",
    "    103: \"생활/문화\",\n",
    "    104: \"세계\",\n",
    "    105: \"IT/과학\",\n",
    "}\n",
    "\n",
    "\n",
    "def print_news(sid):  # print_new(103)\n",
    "    section = section_dict[sid]\n",
    "    url = f\"https://news.naver.com/section/{sid}\"\n",
    "    print(f\"=====> {url} {section} 뉴스 <=====\")\n",
    "\n",
    "    # 요청 헤더 설정 : 브라우저 정보 (사람처럼 보이게 하려고 설정하는 것임)\n",
    "    req_header = {\n",
    "        \"user-agent\": \"Mozilla/5.0 (Windows NT 10.0; Win64; x64) AppleWebKit/537.36 (KHTML, like Gecko) Chrome/104.0.0.0 Safari/537.36\"\n",
    "    }\n",
    "\n",
    "    # requests 의 get() 함수 호출하기\n",
    "    res = requests.get(url, headers=req_header)\n",
    "    print('-----')\n",
    "    print(res)\n",
    "    print(type(res))\n",
    "    print(res.status_code, res.ok)\n",
    "\n",
    "    # 응답(response)이 OK 이면\n",
    "    if res.ok:\n",
    "        # 응답 (response)에서 text 추출 - source 보기\n",
    "        html = res.text\n",
    "        # BeautifulSoup 객체 생성\n",
    "        soup = BeautifulSoup(html, \"html.parser\")\n",
    "        \n",
    "        a_tag_list = soup.select(\"div.sa_text a[href*='mnews/article']\")    \n",
    "        print(type(a_tag_list))  # [<a href=\"http://\">뉴스제목</a>] ResultSet객체 , <a></a> : Tag 객체\n",
    "        \n",
    "        for a_tag in a_tag_list:\n",
    "            print('-----')\n",
    "            # print(type(a_tag))\n",
    "            title = a_tag.text.strip()\n",
    "            # href 속성의 값을 가져오기\n",
    "            link = a_tag[\"href\"]\n",
    "            print(link, title)\n",
    "    else:\n",
    "        # 응답(response)이 Error 이면 status code 출력\n",
    "        print(f\"에러 코드 = {res.status_code}\")\n",
    "\n",
    "# 함수호출\n",
    "print_news(101)"
   ]
  },
  {
   "cell_type": "code",
   "execution_count": 21,
   "id": "6ca2ff8b-5d9e-4917-871e-452e858462ad",
   "metadata": {},
   "outputs": [
    {
     "name": "stdout",
     "output_type": "stream",
     "text": [
      "Requirement already satisfied: webdriver-manager in c:\\users\\hun\\anaconda3\\lib\\site-packages (4.0.2)\n",
      "Requirement already satisfied: requests in c:\\users\\hun\\anaconda3\\lib\\site-packages (from webdriver-manager) (2.32.3)\n",
      "Requirement already satisfied: python-dotenv in c:\\users\\hun\\anaconda3\\lib\\site-packages (from webdriver-manager) (0.21.0)\n",
      "Requirement already satisfied: packaging in c:\\users\\hun\\anaconda3\\lib\\site-packages (from webdriver-manager) (24.1)\n",
      "Requirement already satisfied: charset-normalizer<4,>=2 in c:\\users\\hun\\anaconda3\\lib\\site-packages (from requests->webdriver-manager) (3.3.2)\n",
      "Requirement already satisfied: idna<4,>=2.5 in c:\\users\\hun\\anaconda3\\lib\\site-packages (from requests->webdriver-manager) (3.7)\n",
      "Requirement already satisfied: urllib3<3,>=1.21.1 in c:\\users\\hun\\anaconda3\\lib\\site-packages (from requests->webdriver-manager) (2.2.3)\n",
      "Requirement already satisfied: certifi>=2017.4.17 in c:\\users\\hun\\anaconda3\\lib\\site-packages (from requests->webdriver-manager) (2025.1.31)\n",
      "Note: you may need to restart the kernel to use updated packages.\n"
     ]
    }
   ],
   "source": [
    "pip install webdriver-manager"
   ]
  },
  {
   "cell_type": "code",
   "execution_count": 23,
   "id": "302153b4-5c69-4cc5-b085-a3cd9eb9e407",
   "metadata": {},
   "outputs": [
    {
     "name": "stdout",
     "output_type": "stream",
     "text": [
      "https://news.daum.net/economy\n",
      "<class 'bs4.element.ResultSet'> 15\n",
      "https://v.daum.net/v/20250409135537500\n",
      "국내 첫 크루즈페리 미라클호 수영장\n",
      "https://v.daum.net/v/20250409135532496\n",
      "국내 첫 크루즈페리 미라클호 내부 모습\n",
      "https://v.daum.net/v/20250409135528492\n",
      "국내 첫 크루즈페리 미라클호 객실 모습\n",
      "https://v.daum.net/v/20250409135527491\n",
      "코스피 '2300' 무너졌다… 달러는 1500원 가까이 오르기도(상보)\n",
      "https://v.daum.net/v/20250409135524488\n",
      "국내 첫 크루즈페리 미라클호 객실 모습\n",
      "https://v.daum.net/v/20250409135521487\n",
      "3월 은행 가계대출 1.4조↑‥증가폭 2월 절반 수준\n",
      "https://v.daum.net/v/20250409135520486\n",
      "국내 첫 크루즈페리 미라클호 내부 모습\n",
      "https://v.daum.net/v/20250409135512483\n",
      "\"전통시장 16곳에서 농산물 할인지원\"‥정부, 14일부터 시범사업\n",
      "https://v.daum.net/v/20250409135511482\n",
      "'미국 상호관세 발효'에 코스피 2,300선 붕괴‥1년 5개월여만\n",
      "https://v.daum.net/v/20250409135458471\n",
      "서정진 셀트리온 회장, 사재로 자사주 500억원 어치 매수\n",
      "https://v.daum.net/v/20250409134313075\n",
      "'그로기' 전남 석유화학, 생존 안간힘…대선에 발목(종합)\n",
      "https://v.daum.net/v/20250409133520828\n",
      "트럼프 관세에 환율 '발작'… 원/달러 환율 1480원, 엔화 1020원 돌파\n",
      "https://v.daum.net/v/20250409131415187\n",
      "민주, '대선 체제' 가동…李 사퇴 직후 '선관위' 구성[종합]\n",
      "https://v.daum.net/v/20250409131403181\n",
      "'관세 쇼크' 대응 총력전…긴급 정책금융·물류비 지원\n",
      "https://v.daum.net/v/20250409130123888\n",
      "美상호관세 발효, 본게임 시작…협상 키워드는 '맞춤형·원스톱'\n"
     ]
    }
   ],
   "source": [
    "from selenium import webdriver\n",
    "from selenium.webdriver.chrome.service import Service\n",
    "from selenium.webdriver.chrome.options import Options\n",
    "from bs4 import BeautifulSoup\n",
    "from webdriver_manager.chrome import ChromeDriverManager\n",
    "import time\n",
    "\n",
    "# 다음 경제 뉴스 URL\n",
    "url = 'https://news.daum.net/economy'\n",
    "print(url)\n",
    "\n",
    "# 셀레니움 옵션 설정\n",
    "options = Options()\n",
    "options.add_argument(\"--headless\")  # 창 안 띄우기\n",
    "options.add_argument(\"--no-sandbox\")\n",
    "options.add_argument(\"--disable-dev-shm-usage\")\n",
    "\n",
    "# 드라이버 실행\n",
    "driver = webdriver.Chrome(service=Service(ChromeDriverManager().install()), options=options)\n",
    "driver.get(url)\n",
    "\n",
    "# 로딩 대기\n",
    "time.sleep(2)\n",
    "\n",
    "# 페이지 파싱\n",
    "soup = BeautifulSoup(driver.page_source, 'html.parser')\n",
    "\n",
    "# 기사 추출\n",
    "a_tag_list = soup.select(\"a.item_newsbasic\")\n",
    "print(type(a_tag_list), len(a_tag_list))\n",
    "\n",
    "for a_tag in a_tag_list:\n",
    "    href = a_tag.get('href')\n",
    "    title_tag = a_tag.select_one(\"strong.tit_txt\")\n",
    "    title = title_tag.text.strip() if title_tag else \"제목 없음\"\n",
    "    print(href)\n",
    "    print(title)\n",
    "\n",
    "driver.quit()"
   ]
  },
  {
   "cell_type": "code",
   "execution_count": 24,
   "id": "9a1cf696-11d9-4357-9c1a-f1dead5826e9",
   "metadata": {},
   "outputs": [
    {
     "name": "stdout",
     "output_type": "stream",
     "text": [
      "\n",
      "======> https://news.daum.net/economy 경제 뉴스 <======\n",
      "https://v.daum.net/v/20250409135609520\n",
      "코스피, 美 상호관세 발효에 장중 2300선 붕괴…코스닥도 650 아래로\n",
      "https://v.daum.net/v/20250409135555506\n",
      "美 예정대로 관세 부과…코스피 1년 5개월만에 2300선 붕괴\n",
      "https://v.daum.net/v/20250409135537500\n",
      "국내 첫 크루즈페리 미라클호 수영장\n",
      "\n",
      "======> https://news.daum.net/people 인물 뉴스 <======\n",
      "https://v.daum.net/v/20250409134136019\n",
      "“누구나 배울 권리가 있습니다”…전희정 대표, 20년째 이어온 ‘따뜻한 나눔’\n",
      "https://v.daum.net/v/20250409093631107\n",
      "생명의전화, 청소년 자살예방 캠페인 ‘함께고워크’ 개최\n",
      "https://v.daum.net/v/20250409090923890\n",
      "“딸 두면 비행기 탄다더라”… 여행준비가 즐겁고 더 화기애애[사랑합니다]\n"
     ]
    }
   ],
   "source": [
    "from selenium import webdriver\n",
    "from selenium.webdriver.chrome.options import Options\n",
    "from selenium.webdriver.chrome.service import Service\n",
    "from webdriver_manager.chrome import ChromeDriverManager\n",
    "from bs4 import BeautifulSoup\n",
    "import time\n",
    "\n",
    "# 섹션 딕셔너리\n",
    "section_dict = {\n",
    "    '기후/환경':'climate','사회':'society','경제':'economy','정치':'politics',\n",
    "    '국재':'world','문화':'culture','생활':'life','IT/과학':'tech','인물':'people'\n",
    "}\n",
    "\n",
    "# 함수 정의\n",
    "def print_news(section_name):\n",
    "    if section_name not in section_dict:\n",
    "        print(f\"'{section_name}'은(는) 유효한 섹션명이 아닙니다.\")\n",
    "        return\n",
    "    \n",
    "    section_code = section_dict[section_name]\n",
    "    url = f\"https://news.daum.net/{section_code}\"\n",
    "    print(f\"\\n======> {url} {section_name} 뉴스 <======\")\n",
    "\n",
    "    # Selenium WebDriver 설정\n",
    "    options = Options()\n",
    "    options.add_argument('--headless')  # 브라우저 안 띄움\n",
    "    options.add_argument('--no-sandbox')\n",
    "    options.add_argument('--disable-dev-shm-usage')\n",
    "\n",
    "    service = Service(ChromeDriverManager().install())\n",
    "    driver = webdriver.Chrome(service=service, options=options)\n",
    "    \n",
    "    driver.get(url)\n",
    "    time.sleep(2)  # 페이지 로딩 대기\n",
    "\n",
    "    # 페이지 소스 가져와서 파싱\n",
    "    soup = BeautifulSoup(driver.page_source, 'html.parser')\n",
    "    driver.quit()\n",
    "\n",
    "    # 뉴스 링크 추출\n",
    "    news_items = soup.select('ul.list_newsbasic > li > a.item_newsbasic')\n",
    "    \n",
    "    for item in news_items[:3]:  # 상위 3개만 출력\n",
    "        href = item.get('href')\n",
    "        title_tag = item.select_one('.tit_txt')\n",
    "        if href and title_tag:\n",
    "            print(href)\n",
    "            print(title_tag.text.strip())\n",
    "\n",
    "# 함수 실행 예시\n",
    "print_news('경제')\n",
    "print_news('인물')"
   ]
  },
  {
   "cell_type": "code",
   "execution_count": 37,
   "id": "bf3696ff-8b26-48cf-aa09-d6640b0ca25b",
   "metadata": {},
   "outputs": [
    {
     "name": "stdout",
     "output_type": "stream",
     "text": [
      "\n",
      "======> 최신뉴스 뉴스 (https://news.nate.com/recent?mid=n0100) <======\n"
     ]
    },
    {
     "data": {
      "image/jpeg": "[encoded data removed]",
      "text/plain": [
       "<IPython.core.display.Image object>"
      ]
     },
     "metadata": {},
     "output_type": "display_data"
    },
    {
     "name": "stdout",
     "output_type": "stream",
     "text": [
      "제목: 이철우 경북도지사 만난 권영세 비대위원장\n",
      "링크: https://news.nate.com/view/20250409n21954?mid=n0100\n",
      "--------------------------------------------------\n"
     ]
    },
    {
     "data": {
      "image/jpeg": "[encoded data removed]",
      "text/plain": [
       "<IPython.core.display.Image object>"
      ]
     },
     "metadata": {},
     "output_type": "display_data"
    },
    {
     "name": "stdout",
     "output_type": "stream",
     "text": [
      "제목: 발언하는 이철우 경북도지사\n",
      "링크: https://news.nate.com/view/20250409n21953?mid=n0100\n",
      "--------------------------------------------------\n"
     ]
    },
    {
     "data": {
      "image/jpeg": "[encoded data removed]",
      "text/plain": [
       "<IPython.core.display.Image object>"
      ]
     },
     "metadata": {},
     "output_type": "display_data"
    },
    {
     "name": "stdout",
     "output_type": "stream",
     "text": [
      "제목: 행안부, 여름철 풍수해TF 가동…6월까지 분야별 점검\n",
      "링크: https://news.nate.com/view/20250409n21952?mid=n0100\n",
      "--------------------------------------------------\n",
      "\n",
      "======> 정치 뉴스 (https://news.nate.com/recent?mid=n0201) <======\n"
     ]
    },
    {
     "data": {
      "image/jpeg": "[encoded data removed]",
      "text/plain": [
       "<IPython.core.display.Image object>"
      ]
     },
     "metadata": {},
     "output_type": "display_data"
    },
    {
     "name": "stdout",
     "output_type": "stream",
     "text": [
      "제목: 이재명, 대선 출마 맞춰 '결국 국민이 합니다' 책 낸다\n",
      "링크: https://news.nate.com/view/20250409n21850?mid=n0201\n",
      "--------------------------------------------------\n"
     ]
    },
    {
     "data": {
      "image/jpeg": "[encoded data removed]",
      "text/plain": [
       "<IPython.core.display.Image object>"
      ]
     },
     "metadata": {},
     "output_type": "display_data"
    },
    {
     "name": "stdout",
     "output_type": "stream",
     "text": [
      "제목: 대구 찾은 이준석 \"이재명 대권 목전, 묵과 않을 것…이기는 선택 되겠다\"\n",
      "링크: https://news.nate.com/view/20250409n21824?mid=n0201\n",
      "--------------------------------------------------\n"
     ]
    },
    {
     "data": {
      "image/jpeg": "[encoded data removed]",
      "text/plain": [
       "<IPython.core.display.Image object>"
      ]
     },
     "metadata": {},
     "output_type": "display_data"
    },
    {
     "name": "stdout",
     "output_type": "stream",
     "text": [
      "제목: 이재명 대표직 사퇴 \"새로운 일 시작, 국민과 역경 이겨내겠다\" 대선 시동\n",
      "링크: https://news.nate.com/view/20250409n16584?mid=n0201\n",
      "--------------------------------------------------\n",
      "\n",
      "======> 경제 뉴스 (https://news.nate.com/recent?mid=n0300) <======\n"
     ]
    },
    {
     "data": {
      "image/jpeg": "[encoded data removed]",
      "text/plain": [
       "<IPython.core.display.Image object>"
      ]
     },
     "metadata": {},
     "output_type": "display_data"
    },
    {
     "name": "stdout",
     "output_type": "stream",
     "text": [
      "제목: 농협, 청정축산 시상식…최고상에 파주 이정목장\n",
      "링크: https://news.nate.com/view/20250409n21847?mid=n0300\n",
      "--------------------------------------------------\n"
     ]
    },
    {
     "data": {
      "image/jpeg": "[encoded data removed]",
      "text/plain": [
       "<IPython.core.display.Image object>"
      ]
     },
     "metadata": {},
     "output_type": "display_data"
    },
    {
     "name": "stdout",
     "output_type": "stream",
     "text": [
      "제목: 美 상호관세 결국 발효…\"조선업, 중요한 협상 카드\"\n",
      "링크: https://news.nate.com/view/20250409n21846?mid=n0300\n",
      "--------------------------------------------------\n"
     ]
    },
    {
     "data": {
      "image/jpeg": "[encoded data removed]",
      "text/plain": [
       "<IPython.core.display.Image object>"
      ]
     },
     "metadata": {},
     "output_type": "display_data"
    },
    {
     "name": "stdout",
     "output_type": "stream",
     "text": [
      "제목: 코스피, 장중 2300선 붕괴…1년 5개월만 [fn오후시황]\n",
      "링크: https://news.nate.com/view/20250409n21098?mid=n0300\n",
      "--------------------------------------------------\n",
      "\n",
      "======> 사회 뉴스 (https://news.nate.com/recent?mid=n0400) <======\n"
     ]
    },
    {
     "data": {
      "image/jpeg": "[encoded data removed]",
      "text/plain": [
       "<IPython.core.display.Image object>"
      ]
     },
     "metadata": {},
     "output_type": "display_data"
    },
    {
     "name": "stdout",
     "output_type": "stream",
     "text": [
      "제목: 경찰, 불법 리베이트·공직자 부패비리 사범 1394명 송치\n",
      "링크: https://news.nate.com/view/20250409n21849?mid=n0400\n",
      "--------------------------------------------------\n"
     ]
    },
    {
     "data": {
      "image/jpeg": "[encoded data removed]",
      "text/plain": [
       "<IPython.core.display.Image object>"
      ]
     },
     "metadata": {},
     "output_type": "display_data"
    },
    {
     "name": "stdout",
     "output_type": "stream",
     "text": [
      "제목: 배재대‧대전서구사회복지협의회, 사회복지 전문 인력 양성 '맞손'\n",
      "링크: https://news.nate.com/view/20250409n21844?mid=n0400\n",
      "--------------------------------------------------\n"
     ]
    },
    {
     "data": {
      "image/jpeg": "[encoded data removed]",
      "text/plain": [
       "<IPython.core.display.Image object>"
      ]
     },
     "metadata": {},
     "output_type": "display_data"
    },
    {
     "name": "stdout",
     "output_type": "stream",
     "text": [
      "제목: '인천 항만업계 대변' 인천항발전협의회 회장 15년 만에 교체\n",
      "링크: https://news.nate.com/view/20250409n21841?mid=n0400\n",
      "--------------------------------------------------\n",
      "\n",
      "======> 세계 뉴스 (https://news.nate.com/recent?mid=n0502) <======\n"
     ]
    },
    {
     "data": {
      "image/jpeg": "[encoded data removed]",
      "text/plain": [
       "<IPython.core.display.Image object>"
      ]
     },
     "metadata": {},
     "output_type": "display_data"
    },
    {
     "name": "stdout",
     "output_type": "stream",
     "text": [
      "제목: 도미니카공화국 클럽 지붕 '와르르', 최소 79명 사망…공연하던 가수도 실종\n",
      "링크: https://news.nate.com/view/20250409n21713?mid=n0502\n",
      "--------------------------------------------------\n"
     ]
    },
    {
     "data": {
      "image/jpeg": "[encoded data removed]",
      "text/plain": [
       "<IPython.core.display.Image object>"
      ]
     },
     "metadata": {},
     "output_type": "display_data"
    },
    {
     "name": "stdout",
     "output_type": "stream",
     "text": [
      "제목: 무려 340만원? 해외 유행하는 '땋은 머리' 넥타이 뭐길래\n",
      "링크: https://news.nate.com/view/20250409n19450?mid=n0502\n",
      "--------------------------------------------------\n"
     ]
    },
    {
     "data": {
      "image/jpeg": "[encoded data removed]",
      "text/plain": [
       "<IPython.core.display.Image object>"
      ]
     },
     "metadata": {},
     "output_type": "display_data"
    },
    {
     "name": "stdout",
     "output_type": "stream",
     "text": [
      "제목: \"엄마가 알면 악몽의 시작\"…한국계 최강 스펙男, 美 엄친아로 떴다\n",
      "링크: https://news.nate.com/view/20250409n18540?mid=n0502\n",
      "--------------------------------------------------\n",
      "\n",
      "======> IT/과학 뉴스 (https://news.nate.com/recent?mid=n0600) <======\n"
     ]
    },
    {
     "data": {
      "image/jpeg": "[encoded data removed]",
      "text/plain": [
       "<IPython.core.display.Image object>"
      ]
     },
     "metadata": {},
     "output_type": "display_data"
    },
    {
     "name": "stdout",
     "output_type": "stream",
     "text": [
      "제목: \"건강에 안 좋대서 떼내고 먹었는데\" 콩보다 몸에 좋다는 '이것' [건강잇슈]\n",
      "링크: https://news.nate.com/view/20250409n13219?mid=n0600\n",
      "--------------------------------------------------\n"
     ]
    },
    {
     "data": {
      "image/jpeg": "[encoded data removed]",
      "text/plain": [
       "<IPython.core.display.Image object>"
      ]
     },
     "metadata": {},
     "output_type": "display_data"
    },
    {
     "name": "stdout",
     "output_type": "stream",
     "text": [
      "제목: 국가전략기술 확인서 수여식\n",
      "링크: https://news.nate.com/view/20250409n21718?mid=n0600\n",
      "--------------------------------------------------\n"
     ]
    },
    {
     "data": {
      "image/jpeg": "[encoded data removed]",
      "text/plain": [
       "<IPython.core.display.Image object>"
      ]
     },
     "metadata": {},
     "output_type": "display_data"
    },
    {
     "name": "stdout",
     "output_type": "stream",
     "text": [
      "제목: \"영원히 젊어질 수 있다고?\" 이지혜가 공개한 특별한 노화 관리법!\n",
      "링크: https://news.nate.com/view/20250409n14075?mid=n0600\n",
      "--------------------------------------------------\n"
     ]
    }
   ],
   "source": [
    "#2-1. Nate 뉴스기사 제목 스크래핑하기 (필수)\n",
    "from selenium import webdriver\n",
    "from selenium.webdriver.chrome.service import Service\n",
    "from selenium.webdriver.chrome.options import Options\n",
    "from webdriver_manager.chrome import ChromeDriverManager\n",
    "from bs4 import BeautifulSoup\n",
    "from urllib.parse import urljoin\n",
    "from IPython.display import Image, display\n",
    "import time\n",
    "\n",
    "# 섹션 딕셔너리\n",
    "section_dict = {\n",
    "    '최신뉴스': 'n0100',\n",
    "    '정치': 'n0201',\n",
    "    '경제': 'n0300',\n",
    "    '사회': 'n0400',\n",
    "    '세계': 'n0502',\n",
    "    'IT/과학': 'n0600'\n",
    "}\n",
    "\n",
    "# 스크래핑 함수\n",
    "def scrape_nate_news(section_name):\n",
    "    if section_name not in section_dict:\n",
    "        print(f\"'{section_name}'은(는) 유효한 섹션명이 아닙니다.\")\n",
    "        return\n",
    "\n",
    "    mid_code = section_dict[section_name]\n",
    "    url = f\"https://news.nate.com/recent?mid={mid_code}\"\n",
    "    print(f\"\\n======> {section_name} 뉴스 ({url}) <======\")\n",
    "\n",
    "    # Selenium 설정\n",
    "    options = Options()\n",
    "    options.add_argument('--headless')\n",
    "    options.add_argument('--no-sandbox')\n",
    "    options.add_argument('--disable-dev-shm-usage')\n",
    "    options.add_argument('--lang=ko-KR')\n",
    "    options.add_argument('user-agent=Mozilla/5.0 (Windows NT 10.0; Win64; x64) AppleWebKit/537.36 (KHTML, like Gecko) Chrome/89.0.4389.82 Safari/537.36')\n",
    "\n",
    "    service = Service(ChromeDriverManager().install())\n",
    "    driver = webdriver.Chrome(service=service, options=options)\n",
    "\n",
    "    driver.get(url)\n",
    "    time.sleep(3)  # JS 로딩 대기\n",
    "\n",
    "    soup = BeautifulSoup(driver.page_source, \"html.parser\")\n",
    "    driver.quit()\n",
    "\n",
    "    articles = soup.select(\"div.mlt01\")  # 뉴스 카드 단위 선택\n",
    "\n",
    "    if not articles:\n",
    "        print(\"뉴스 항목이 없습니다.\")\n",
    "        return\n",
    "\n",
    "    for article in articles[:3]:  # 상위 3개만\n",
    "        link_tag = article.select_one(\"a\")\n",
    "        title_tag = article.select_one(\"h2.tit\")\n",
    "\n",
    "        if not link_tag or not title_tag:\n",
    "            continue\n",
    "\n",
    "        link = urljoin(\"https://news.nate.com\", link_tag[\"href\"])\n",
    "        title = title_tag.get_text(strip=True)\n",
    "\n",
    "        # 이미지 처리\n",
    "        img_tag = article.select_one(\"img\")\n",
    "        if img_tag and img_tag.get(\"src\"):\n",
    "            img_src = urljoin(\"https:\", img_tag[\"src\"]) if img_tag[\"src\"].startswith(\"//\") else img_tag[\"src\"]\n",
    "            display(Image(img_src))\n",
    "        else:\n",
    "            print(\"[이미지 없음]\")\n",
    "\n",
    "        print(\"제목:\", title)\n",
    "        print(\"링크:\", link)\n",
    "        print(\"-\" * 50)\n",
    "\n",
    "# 섹션 전체 실행\n",
    "for section in section_dict:\n",
    "    scrape_nate_news(section)"
   ]
  },
  {
   "cell_type": "code",
   "execution_count": 11,
   "id": "ccc5d799-f2a3-4773-a16b-d2220b49fc94",
   "metadata": {},
   "outputs": [
    {
     "name": "stdout",
     "output_type": "stream",
     "text": [
      "Writing to img\\20250107185236_7c4b279b6b7816fb2920b82077a98786_IMAG01_1.jpg (164,626 bytes)\n",
      "Writing to img\\20250107185236_7c4b279b6b7816fb2920b82077a98786_IMAG01_2.jpg (90,246 bytes)\n",
      "Writing to img\\20250107185236_7c4b279b6b7816fb2920b82077a98786_IMAG01_3.jpg (123,558 bytes)\n",
      "Writing to img\\20250107185236_7c4b279b6b7816fb2920b82077a98786_IMAG01_4.jpg (144,941 bytes)\n",
      "Writing to img\\20250107185236_7c4b279b6b7816fb2920b82077a98786_IMAG01_5.jpg (183,258 bytes)\n",
      "Writing to img\\20250107185236_7c4b279b6b7816fb2920b82077a98786_IMAG01_6.jpg (148,153 bytes)\n",
      "Writing to img\\20250107185236_7c4b279b6b7816fb2920b82077a98786_IMAG01_7.jpg (149,937 bytes)\n",
      "Writing to img\\20250107185236_7c4b279b6b7816fb2920b82077a98786_IMAG01_8.jpg (83,666 bytes)\n",
      "Writing to img\\20250107185236_7c4b279b6b7816fb2920b82077a98786_IMAG01_9.jpg (180,487 bytes)\n",
      "Writing to img\\20250107185236_7c4b279b6b7816fb2920b82077a98786_IMAG01_10.jpg (119,614 bytes)\n",
      "Writing to img\\20250107185236_7c4b279b6b7816fb2920b82077a98786_IMAG01_11.jpg (132,312 bytes)\n",
      "Writing to img\\20250107185236_7c4b279b6b7816fb2920b82077a98786_IMAG01_12.jpg (136,409 bytes)\n",
      "Writing to img\\20250107185236_7c4b279b6b7816fb2920b82077a98786_IMAG01_13.jpg (112,248 bytes)\n",
      "Writing to img\\20250107185236_7c4b279b6b7816fb2920b82077a98786_IMAG01_14.jpg (159,837 bytes)\n",
      "Writing to img\\20250107185236_7c4b279b6b7816fb2920b82077a98786_IMAG01_15.jpg (168,735 bytes)\n",
      "Writing to img\\20250107185236_7c4b279b6b7816fb2920b82077a98786_IMAG01_16.jpg (73,730 bytes)\n",
      "Writing to img\\20250107185236_7c4b279b6b7816fb2920b82077a98786_IMAG01_17.jpg (182,584 bytes)\n",
      "Writing to img\\20250107185236_7c4b279b6b7816fb2920b82077a98786_IMAG01_18.jpg (86,921 bytes)\n",
      "Writing to img\\20250107185236_7c4b279b6b7816fb2920b82077a98786_IMAG01_19.jpg (8,717 bytes)\n"
     ]
    }
   ],
   "source": [
    "#2-2. 하나의 네이버 웹툰과 1개의 회차에 대한 Image 다운로드 하기 (필수)\n",
    "\n",
    "import requests\n",
    "from bs4 import BeautifulSoup\n",
    "import os\n",
    "\n",
    "# 기본 설정\n",
    "url = 'https://comic.naver.com/webtoon/detail?titleId=833255&no=35&week=tue'\n",
    "req_header = {'referer': url}\n",
    "imgdir_name = 'img'\n",
    "\n",
    "# 이미지 저장 폴더가 없으면 생성\n",
    "os.makedirs(imgdir_name, exist_ok=True)\n",
    "\n",
    "# 웹 페이지 요청 및 확인\n",
    "res = requests.get(url)\n",
    "if not res.ok:\n",
    "    print(f'Error Code = {res.status_code}')\n",
    "    exit()\n",
    "\n",
    "# 이미지 URL 추출\n",
    "soup = BeautifulSoup(res.text, 'html.parser')\n",
    "img_url_list = [img_tag['src'] for img_tag in soup.select(\"img[src*='IMAG01']\")]\n",
    "\n",
    "# 이미지 다운로드\n",
    "for img_url in img_url_list:\n",
    "    res = requests.get(img_url, headers=req_header)\n",
    "    if res.ok:\n",
    "        img_data = res.content\n",
    "        file_path = os.path.join(imgdir_name, os.path.basename(img_url))\n",
    "        with open(file_path, 'wb') as file:\n",
    "            print(f'Writing to {file_path} ({len(img_data):,} bytes)')\n",
    "            file.write(img_data)\n",
    "    else:\n",
    "        print(f'Error Code = {res.status_code} for {img_url}')"
   ]
  },
  {
   "cell_type": "code",
   "execution_count": 17,
   "id": "bde73046-4f22-4388-b8f1-ded3b5b51735",
   "metadata": {},
   "outputs": [
    {
     "name": "stdout",
     "output_type": "stream",
     "text": [
      "[SAVE] img\\낢이사는이야기\\45\\20250210115525_5c547b8cc4885cc943a933ee13720760_IMAG01_1.jpg (155,509 bytes)\n",
      "[SAVE] img\\낢이사는이야기\\45\\20250210115525_5c547b8cc4885cc943a933ee13720760_IMAG01_2.jpg (124,991 bytes)\n",
      "[SAVE] img\\낢이사는이야기\\45\\20250210115525_5c547b8cc4885cc943a933ee13720760_IMAG01_3.jpg (144,186 bytes)\n",
      "[SAVE] img\\낢이사는이야기\\45\\20250210115525_5c547b8cc4885cc943a933ee13720760_IMAG01_4.jpg (135,557 bytes)\n",
      "[SAVE] img\\낢이사는이야기\\45\\20250210115525_5c547b8cc4885cc943a933ee13720760_IMAG01_5.jpg (148,928 bytes)\n",
      "[SAVE] img\\낢이사는이야기\\45\\20250210115525_5c547b8cc4885cc943a933ee13720760_IMAG01_6.jpg (157,595 bytes)\n",
      "[SAVE] img\\낢이사는이야기\\45\\20250210115525_5c547b8cc4885cc943a933ee13720760_IMAG01_7.jpg (151,142 bytes)\n",
      "[SAVE] img\\낢이사는이야기\\45\\20250210115525_5c547b8cc4885cc943a933ee13720760_IMAG01_8.jpg (99,157 bytes)\n",
      "[SAVE] img\\낢이사는이야기\\45\\20250210115525_5c547b8cc4885cc943a933ee13720760_IMAG01_9.jpg (102,513 bytes)\n",
      "[SAVE] img\\낢이사는이야기\\45\\20250210115525_5c547b8cc4885cc943a933ee13720760_IMAG01_10.jpg (135,166 bytes)\n",
      "[SAVE] img\\낢이사는이야기\\45\\20250210115525_5c547b8cc4885cc943a933ee13720760_IMAG01_11.jpg (163,524 bytes)\n",
      "[SAVE] img\\낢이사는이야기\\45\\20250210115525_5c547b8cc4885cc943a933ee13720760_IMAG01_12.jpg (94,282 bytes)\n",
      "[SAVE] img\\낢이사는이야기\\45\\20250210115525_5c547b8cc4885cc943a933ee13720760_IMAG01_13.jpg (85,674 bytes)\n",
      "[SAVE] img\\낢이사는이야기\\45\\20250210115525_5c547b8cc4885cc943a933ee13720760_IMAG01_14.jpg (112,929 bytes)\n",
      "[SAVE] img\\낢이사는이야기\\45\\20250210115525_5c547b8cc4885cc943a933ee13720760_IMAG01_15.jpg (160,679 bytes)\n",
      "[SAVE] img\\낢이사는이야기\\45\\20250210115525_5c547b8cc4885cc943a933ee13720760_IMAG01_16.jpg (99,837 bytes)\n",
      "[SAVE] img\\낢이사는이야기\\45\\20250210115525_5c547b8cc4885cc943a933ee13720760_IMAG01_17.jpg (179,611 bytes)\n",
      "[SAVE] img\\낢이사는이야기\\45\\20250210115525_5c547b8cc4885cc943a933ee13720760_IMAG01_18.jpg (89,432 bytes)\n",
      "[SAVE] img\\낢이사는이야기\\45\\20250210115525_5c547b8cc4885cc943a933ee13720760_IMAG01_19.jpg (110,018 bytes)\n",
      "[SAVE] img\\낢이사는이야기\\45\\20250210115525_5c547b8cc4885cc943a933ee13720760_IMAG01_20.jpg (130,675 bytes)\n",
      "[SAVE] img\\낢이사는이야기\\45\\20250210115525_5c547b8cc4885cc943a933ee13720760_IMAG01_21.jpg (148,546 bytes)\n",
      "[SAVE] img\\낢이사는이야기\\45\\20250210115525_5c547b8cc4885cc943a933ee13720760_IMAG01_22.jpg (5,015 bytes)\n"
     ]
    }
   ],
   "source": [
    "#2-2. 하나의 네이버 웹툰과 1개의 회차에 대한 Image 다운로드 하기 (필수)\n",
    "import requests\n",
    "from bs4 import BeautifulSoup\n",
    "import os\n",
    "\n",
    "def download_one_episode(title, no, url):\n",
    "    # 디렉토리 이름 설정 (ex: img\\낢이사는이야기\\48)\n",
    "    imgdir_name = os.path.join('img', title, str(no))\n",
    "    os.makedirs(imgdir_name, exist_ok=True)\n",
    "\n",
    "    # 요청 헤더 설정\n",
    "    req_header = {'referer': url}\n",
    "\n",
    "    # 웹 페이지 요청\n",
    "    res = requests.get(url)\n",
    "    if not res.ok:\n",
    "        print(f'[ERROR] Failed to fetch page: {res.status_code}')\n",
    "        return\n",
    "\n",
    "    # 이미지 URL 추출\n",
    "    soup = BeautifulSoup(res.text, 'html.parser')\n",
    "    img_url_list = [img_tag['src'] for img_tag in soup.select(\"img[src*='IMAG01']\")]\n",
    "\n",
    "    # 이미지 다운로드\n",
    "    for img_url in img_url_list:\n",
    "        res = requests.get(img_url, headers=req_header)\n",
    "        if res.ok:\n",
    "            img_data = res.content\n",
    "            file_name = os.path.basename(img_url)\n",
    "            file_path = os.path.join(imgdir_name, file_name)\n",
    "            with open(file_path, 'wb') as file:\n",
    "                print(f'[SAVE] {file_path} ({len(img_data):,} bytes)')\n",
    "                file.write(img_data)\n",
    "        else:\n",
    "            print(f'[ERROR] Failed to download image: {img_url} (code {res.status_code})')\n",
    "\n",
    "title = '낢이사는이야기'\n",
    "episode_no = 45  # URL에 들어갈 회차 번호\n",
    "\n",
    "url = f'https://comic.naver.com/webtoon/detail?titleId=833255&no={episode_no}&week=tue'\n",
    "download_one_episode(title, episode_no, url)"
   ]
  },
  {
   "cell_type": "code",
   "execution_count": 85,
   "id": "20ab6174-293f-43d9-852e-9f1cf57a8e73",
   "metadata": {},
   "outputs": [
    {
     "name": "stdout",
     "output_type": "stream",
     "text": [
      "{\"key\":\"QVf6lUfTSawuCw8e\"}\n"
     ]
    }
   ],
   "source": [
    "import os\n",
    "import sys\n",
    "import urllib.request\n",
    "client_id = \"F3gF0wWveR6xt0jgRbwW\" # 개발자센터에서 발급받은 Client ID 값\n",
    "client_secret = \"aVUmlaFaRU\" # 개발자센터에서 발급받은 Client Secret 값\n",
    "key = \"oMsb8Sf9wrDIvOyc\" # 캡차 Key 값\n",
    "\n",
    "code = \"0\"\n",
    "value = \"X19L3K\"\n",
    "url = \"https://openapi.naver.com/v1/captcha/nkey?code=\" + code + \"&key=\" + key + \"&value=\" + value\n",
    "request = urllib.request.Request(url)\n",
    "request.add_header(\"X-Naver-Client-Id\",client_id)\n",
    "request.add_header(\"X-Naver-Client-Secret\",client_secret)\n",
    "response = urllib.request.urlopen(request)\n",
    "rescode = response.getcode()\n",
    "if(rescode==200):\n",
    "    response_body = response.read()\n",
    "    print(response_body.decode('utf-8'))\n",
    "else:\n",
    "    print(\"Error Code:\" + rescode)"
   ]
  },
  {
   "cell_type": "code",
   "execution_count": 75,
   "id": "0c22c42a-805b-4d49-8bac-659c828f052d",
   "metadata": {},
   "outputs": [
    {
     "name": "stdout",
     "output_type": "stream",
     "text": [
      "Name: python-dotenv\n",
      "Version: 0.21.0\n",
      "Summary: Read key-value pairs from a .env file and set them as environment variables\n",
      "Home-page: https://github.com/theskumar/python-dotenv\n",
      "Author: Saurabh Kumar\n",
      "Author-email: me+github@saurabh-kumar.com\n",
      "License: BSD-3-Clause\n",
      "Location: C:\\Users\\hun\\anaconda3\\Lib\\site-packages\n",
      "Requires: \n",
      "Required-by: anaconda-cloud-auth, pydantic-settings, webdriver-manager\n",
      "Note: you may need to restart the kernel to use updated packages.\n"
     ]
    }
   ],
   "source": [
    "%pip show python-dotenv\n"
   ]
  },
  {
   "cell_type": "code",
   "execution_count": 107,
   "id": "14f78b6d-cc73-4441-bab7-d4b8c626444d",
   "metadata": {},
   "outputs": [
    {
     "name": "stdout",
     "output_type": "stream",
     "text": [
      "{\"key\":\"QXPILbvneOy16AqW\"}\n"
     ]
    }
   ],
   "source": [
    "# 캡차 키 발급 요청\n",
    "import os\n",
    "from dotenv import load_dotenv\n",
    "import requests\n",
    "\n",
    "# .env 파일에서 환경 변수 로드\n",
    "load_dotenv()\n",
    "\n",
    "client_id = os.getenv(\"NAVER_CLIENT_ID\")  # .env 파일의 NAVER_CLIENT_ID 값\n",
    "client_secret = os.getenv(\"NAVER_CLIENT_SECRET\")  # .env 파일의 NAVER_CLIENT_SECRET 값\n",
    "code = \"0\"\n",
    "\n",
    "url = \"https://openapi.naver.com/v1/captcha/nkey?code=\" + code\n",
    "\n",
    "headers = {\n",
    "    \"X-Naver-Client-Id\": client_id,\n",
    "    \"X-Naver-Client-Secret\": client_secret\n",
    "}\n",
    "\n",
    "# 요청 보내기\n",
    "response = requests.get(url, headers=headers)\n",
    "\n",
    "# 응답 처리\n",
    "if response.status_code == 200:\n",
    "    print(response.text)\n",
    "else:\n",
    "    print(f\"Error Code: {response.status_code}\")"
   ]
  },
  {
   "cell_type": "code",
   "execution_count": 1,
   "id": "c98344bf-b0f6-40d8-b160-b52952bc627a",
   "metadata": {},
   "outputs": [
    {
     "name": "stdout",
     "output_type": "stream",
     "text": [
      "{\"key\":\"rIrLFWpXjHaQbObC\"}\n"
     ]
    }
   ],
   "source": [
    "# 캡차 키 발급 요청\n",
    "import os\n",
    "from dotenv import load_dotenv\n",
    "import requests\n",
    "\n",
    "# .env 파일에서 환경 변수 로드\n",
    "load_dotenv()\n",
    "\n",
    "client_id = os.getenv(\"NAVER_CLIENT_ID\")  # .env 파일의 NAVER_CLIENT_ID 값\n",
    "client_secret = os.getenv(\"NAVER_CLIENT_SECRET\")  # .env 파일의 NAVER_CLIENT_SECRET 값\n",
    "code = \"0\"\n",
    "\n",
    "url = f\"https://openapi.naver.com/v1/captcha/nkey?code={code}\"\n",
    "\n",
    "headers = {\n",
    "    \"X-Naver-Client-Id\": client_id,\n",
    "    \"X-Naver-Client-Secret\": client_secret\n",
    "}\n",
    "\n",
    "# 요청 보내기\n",
    "response = requests.get(url, headers=headers)\n",
    "\n",
    "# 응답 처리\n",
    "if response.status_code == 200:\n",
    "    print(response.text)\n",
    "else:\n",
    "    print(f\"Error Code: {response.status_code}\")"
   ]
  },
  {
   "cell_type": "code",
   "execution_count": 3,
   "id": "c02cb8cb-80d0-488f-9074-fac83eeebfca",
   "metadata": {},
   "outputs": [
    {
     "name": "stdout",
     "output_type": "stream",
     "text": [
      "F3gF0wWveR6xt0jgRbwW aVUmlaFaRU KD40bj2XAOljw4ci\n",
      "캡차 이미지 저장\n"
     ]
    }
   ],
   "source": [
    "# 캡차 이미지 요청\n",
    "import os\n",
    "from dotenv import load_dotenv\n",
    "import requests\n",
    "\n",
    "# .env 파일에서 환경 변수 로드\n",
    "load_dotenv()\n",
    "\n",
    "# 환경 변수에서 값 읽기\n",
    "client_id = os.getenv(\"NAVER_CLIENT_ID\")  # .env 파일의 NAVER_CLIENT_ID\n",
    "client_secret = os.getenv(\"NAVER_CLIENT_SECRET\")  # .env 파일의 NAVER_CLIENT_SECRET\n",
    "key = os.getenv(\"NAVER_CAPTCHA_KEY\")  # .env 파일의 NAVER_CAPTCHA_KEY\n",
    "\n",
    "print(client_id, client_secret, key)\n",
    "\n",
    "url = f\"https://openapi.naver.com/v1/captcha/ncaptcha.bin?key={key}\"\n",
    "\n",
    "headers = {\n",
    "    \"X-Naver-Client-Id\": client_id,\n",
    "    \"X-Naver-Client-Secret\": client_secret\n",
    "}\n",
    "\n",
    "# 요청 보내기\n",
    "response = requests.get(url, headers=headers)\n",
    "\n",
    "# 응답 처리\n",
    "if response.status_code == 200:\n",
    "    print(\"캡차 이미지 저장\")\n",
    "    with open('captcha.jpg', 'wb') as f:\n",
    "        f.write(response.content)\n",
    "else:\n",
    "    print(f\"Error Code: {response.status_code}\")"
   ]
  },
  {
   "cell_type": "code",
   "execution_count": 5,
   "id": "fa906483-73eb-476a-ad33-5c21ecd6ffa0",
   "metadata": {},
   "outputs": [
    {
     "name": "stdout",
     "output_type": "stream",
     "text": [
      "{\"result\":false,\"responseTime\":4.78}\n"
     ]
    }
   ],
   "source": [
    "# 사용자 입력값 검증 요청\n",
    "import os\n",
    "from dotenv import load_dotenv\n",
    "import requests\n",
    "\n",
    "# .env 파일에서 환경 변수 로드\n",
    "load_dotenv()\n",
    "\n",
    "# 환경 변수에서 값 읽기\n",
    "client_id = os.getenv(\"NAVER_CLIENT_ID\")  # .env 파일의 NAVER_CLIENT_ID\n",
    "client_secret = os.getenv(\"NAVER_CLIENT_SECRET\")  # .env 파일의 NAVER_CLIENT_SECRET\n",
    "key = os.getenv(\"NAVER_CAPTCHA_KEY\")  # .env 파일의 NAVER_CAPTCHA_KEY\n",
    "\n",
    "# 사용자 입력값\n",
    "code = \"1\"\n",
    "value = \"93S5VBK\"  # 실제 사용시 사용자 입력값으로 대체 필요\n",
    "\n",
    "# URL 구성\n",
    "url = f\"https://openapi.naver.com/v1/captcha/nkey?code={code}&key={key}&value={value}\"\n",
    "\n",
    "# 요청 헤더\n",
    "headers = {\n",
    "    \"X-Naver-Client-Id\": client_id,\n",
    "    \"X-Naver-Client-Secret\": client_secret\n",
    "}\n",
    "\n",
    "# 요청 보내기\n",
    "try:\n",
    "    response = requests.get(url, headers=headers)\n",
    "    response.raise_for_status()  # 4xx, 5xx 오류 발생시 예외 발생\n",
    "    \n",
    "    # 응답 처리\n",
    "    print(response.text)\n",
    "    \n",
    "except requests.exceptions.RequestException as e:\n",
    "    print(f\"Error occurred: {e}\")\n",
    "    print(f\"Status Code: {response.status_code if 'response' in locals() else 'N/A'}\")"
   ]
  },
  {
   "cell_type": "code",
   "execution_count": 7,
   "id": "f5d70604-d1b6-4438-86a8-72fc866ee541",
   "metadata": {},
   "outputs": [
    {
     "ename": "KeyError",
     "evalue": "'items'",
     "output_type": "error",
     "traceback": [
      "\u001b[1;31m---------------------------------------------------------------------------\u001b[0m",
      "\u001b[1;31mKeyError\u001b[0m                                  Traceback (most recent call last)",
      "Cell \u001b[1;32mIn[7], line 20\u001b[0m\n\u001b[0;32m     18\u001b[0m \u001b[38;5;66;03m# requests get(url, params, headers) 요청 \u001b[39;00m\n\u001b[0;32m     19\u001b[0m res \u001b[38;5;241m=\u001b[39m requests\u001b[38;5;241m.\u001b[39mget(url, params\u001b[38;5;241m=\u001b[39mpayload, headers\u001b[38;5;241m=\u001b[39mheaders)\n\u001b[1;32m---> 20\u001b[0m items_data \u001b[38;5;241m=\u001b[39m res\u001b[38;5;241m.\u001b[39mjson()[\u001b[38;5;124m'\u001b[39m\u001b[38;5;124mitems\u001b[39m\u001b[38;5;124m'\u001b[39m]\n\u001b[0;32m     22\u001b[0m \u001b[38;5;66;03m#print(items_data)\u001b[39;00m\n\u001b[0;32m     23\u001b[0m \u001b[38;5;66;03m# json() 함수로 응답 결과 가져오기\u001b[39;00m\n\u001b[0;32m     24\u001b[0m \u001b[38;5;66;03m# 'title' , 'bloggername' , 'description' , 'bloggerlink' , 'link'\u001b[39;00m\n\u001b[0;32m     25\u001b[0m items_list \u001b[38;5;241m=\u001b[39m \u001b[38;5;28mlist\u001b[39m()\n",
      "\u001b[1;31mKeyError\u001b[0m: 'items'"
     ]
    }
   ],
   "source": [
    "import requests\n",
    "import pprint\n",
    "\n",
    "headers = {\n",
    "    'X-Naver-Client-Id': '',\n",
    "    'X-Naver-Client-Secret': '',\n",
    "}\n",
    "\n",
    "payload = {\n",
    "    'query': '파이썬',\n",
    "    'display': 100,\n",
    "    'sort': 'sim'\n",
    "}\n",
    "\n",
    "url = 'https://openapi.naver.com/v1/search/blog.json'\n",
    "\n",
    "\n",
    "# requests get(url, params, headers) 요청 \n",
    "res = requests.get(url, params=payload, headers=headers)\n",
    "items_data = res.json()['items']\n",
    "\n",
    "#print(items_data)\n",
    "# json() 함수로 응답 결과 가져오기\n",
    "# 'title' , 'bloggername' , 'description' , 'bloggerlink' , 'link'\n",
    "items_list = list()\n",
    "item_list = []\n",
    "for item in items_data:\n",
    "#     print(item)\n",
    "    item_list.append(item['title'])\n",
    "    item_list.append(item['bloggername'])\n",
    "    item_list.append(item['description'])\n",
    "    item_list.append(item['bloggerlink'])\n",
    "    item_list.append(item['link'])\n",
    "\n",
    "    items_list.append(item_list)\n",
    "    item_list = []\n",
    "\n",
    "print(items_list)\n",
    "\n",
    "# 'data/nhnblog.txt' 파일 생성하기\n",
    "with open('data/nhnblog.txt','w',encoding=\"utf-8\")as file:\n",
    "    for items in items_list:\n",
    "        for item in items:\n",
    "            item = item + '\\n'\n",
    "            file.write(item)\n",
    "        file.write('-'*150+'\\n')"
   ]
  },
  {
   "cell_type": "code",
   "execution_count": null,
   "id": "93de5dc9-b712-4275-b330-c201e14f18a1",
   "metadata": {},
   "outputs": [],
   "source": []
  }
 ],
 "metadata": {
  "kernelspec": {
   "display_name": "Python 3 (ipykernel)",
   "language": "python",
   "name": "python3"
  },
  "language_info": {
   "codemirror_mode": {
    "name": "ipython",
    "version": 3
   },
   "file_extension": ".py",
   "mimetype": "text/x-python",
   "name": "python",
   "nbconvert_exporter": "python",
   "pygments_lexer": "ipython3",
   "version": "3.12.7"
  }
 },
 "nbformat": 4,
 "nbformat_minor": 5
}
