{
 "cells": [
  {
   "cell_type": "code",
   "execution_count": 1,
   "id": "3ebfb1e8-3e62-45a3-9019-10aff6aae702",
   "metadata": {},
   "outputs": [
    {
     "name": "stdout",
     "output_type": "stream",
     "text": [
      "Note: you may need to restart the kernel to use updated packages.\n"
     ]
    }
   ],
   "source": [
    "%pip install -q selenium webdriver-manager\n"
   ]
  },
  {
   "cell_type": "code",
   "execution_count": 5,
   "id": "cc4ced86-cf58-491b-8f29-679f878b2b95",
   "metadata": {},
   "outputs": [
    {
     "name": "stdout",
     "output_type": "stream",
     "text": [
      "Downloaded image 1\n",
      "Downloaded image 2\n",
      "Downloaded image 3\n",
      "Downloaded image 4\n",
      "Downloaded image 5\n"
     ]
    }
   ],
   "source": [
    "import os\n",
    "import time\n",
    "import requests\n",
    "from selenium import webdriver\n",
    "from selenium.webdriver.chrome.service import Service\n",
    "from webdriver_manager.chrome import ChromeDriverManager\n",
    "from selenium.webdriver.common.by import By\n",
    "\n",
    "# 저장 폴더 생성\n",
    "save_dir = 'unsplash_img'\n",
    "os.makedirs(save_dir, exist_ok=True)\n",
    "\n",
    "# 셀레니움 드라이버 설정\n",
    "options = webdriver.ChromeOptions()\n",
    "options.add_argument(\"--headless\")  # 브라우저 창 숨김\n",
    "driver = webdriver.Chrome(service=Service(ChromeDriverManager().install()), options=options)\n",
    "\n",
    "# 검색 URL\n",
    "url = 'https://unsplash.com/s/photos/cat'\n",
    "driver.get(url)\n",
    "\n",
    "# 페이지 로딩 시간 대기\n",
    "time.sleep(3)\n",
    "\n",
    "# 이미지 요소 찾기\n",
    "image_elements = driver.find_elements(By.CSS_SELECTOR, 'figure img')\n",
    "\n",
    "# 이미지 링크 가져오기\n",
    "image_urls = []\n",
    "for img in image_elements:\n",
    "    src = img.get_attribute('src')\n",
    "    if src and 'images.unsplash.com' in src:\n",
    "        image_urls.append(src)\n",
    "\n",
    "# 중복 제거 및 상위 몇 개만 선택 (예: 5개)\n",
    "image_urls = list(set(image_urls))[:5]\n",
    "\n",
    "# 이미지 다운로드 및 저장\n",
    "for i, img_url in enumerate(image_urls):\n",
    "    try:\n",
    "        img_data = requests.get(img_url).content\n",
    "        with open(os.path.join(save_dir, f'cat_{i+1}.jpg'), 'wb') as handler:\n",
    "            handler.write(img_data)\n",
    "        print(f'Downloaded image {i+1}')\n",
    "    except Exception as e:\n",
    "        print(f'Failed to download image {i+1}: {e}')\n",
    "\n",
    "driver.quit()"
   ]
  },
  {
   "cell_type": "code",
   "execution_count": null,
   "id": "f73f3c0b-424c-48aa-a658-c9f11babf5b7",
   "metadata": {},
   "outputs": [],
   "source": []
  }
 ],
 "metadata": {
  "kernelspec": {
   "display_name": "Python 3 (ipykernel)",
   "language": "python",
   "name": "python3"
  },
  "language_info": {
   "codemirror_mode": {
    "name": "ipython",
    "version": 3
   },
   "file_extension": ".py",
   "mimetype": "text/x-python",
   "name": "python",
   "nbconvert_exporter": "python",
   "pygments_lexer": "ipython3",
   "version": "3.12.7"
  }
 },
 "nbformat": 4,
 "nbformat_minor": 5
}
