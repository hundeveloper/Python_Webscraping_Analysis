{
 "cells": [
  {
   "cell_type": "code",
   "execution_count": 39,
   "id": "6dc41786-dd31-4162-82b4-08a7db947e43",
   "metadata": {},
   "outputs": [],
   "source": [
    "import requests\n",
    "from bs4 import BeautifulSoup"
   ]
  },
  {
   "cell_type": "code",
   "execution_count": 41,
   "id": "015afc76-3fb0-4d36-a587-a96a8d56b135",
   "metadata": {},
   "outputs": [
    {
     "name": "stdout",
     "output_type": "stream",
     "text": [
      "https://news.daum.net/economy\n"
     ]
    }
   ],
   "source": [
    "url = 'https://news.daum.net/economy'\n",
    "print(url)"
   ]
  },
  {
   "cell_type": "code",
   "execution_count": 43,
   "id": "83450d9c-4f79-42f6-99ff-838dcdd32285",
   "metadata": {},
   "outputs": [
    {
     "name": "stdout",
     "output_type": "stream",
     "text": [
      "<class 'requests.models.Response'>\n",
      "200\n"
     ]
    }
   ],
   "source": [
    "response = requests.get(url)\n",
    "print(type(response))\n",
    "print(response.status_code)  \n",
    "\n",
    "# User-Agent 설정 (크롬 브라우저 흉내)\n",
    "headers = {\n",
    "    'User-Agent': 'Mozilla/5.0 (Windows NT 10.0; Win64; x64) AppleWebKit/537.36 (KHTML, like Gecko) Chrome/123.0.0.0 Safari/537.36'\n",
    "}\n"
   ]
  },
  {
   "cell_type": "code",
   "execution_count": 45,
   "id": "a8b72df0-4bbb-4df7-9cd1-7a2943c38390",
   "metadata": {},
   "outputs": [
    {
     "name": "stdout",
     "output_type": "stream",
     "text": [
      "<class 'bs4.element.ResultSet'> 0\n"
     ]
    }
   ],
   "source": [
    "if response.status_code == 200:\n",
    "    soup = BeautifulSoup(response.text, 'html.parser')\n",
    "\n",
    "    news_list = soup.select(\"ul.list_newsmajor a.link_txt\")  # 기사 제목과 링크가 있는 <a> 태그\n",
    "    print(type(news_list), len(news_list))\n",
    "    for link in news_list:\n",
    "        href = link.get('href')\n",
    "        title = link.get_text(strip=True)\n",
    "        print(href)\n",
    "        print(title)\n",
    "else:\n",
    "    print(\"❌ 요청 실패:\", response.status_code)    "
   ]
  },
  {
   "cell_type": "code",
   "execution_count": 51,
   "id": "6e588643-0de8-4a54-9355-2d21ba559314",
   "metadata": {},
   "outputs": [
    {
     "name": "stdout",
     "output_type": "stream",
     "text": [
      "======> https://news.daum.net/economy 경제 뉴스 <======\n",
      "기사를 찾을 수 없습니다. 선택자가 변경되었을 수 있어요.\n",
      "\n",
      "======> https://news.daum.net/people 인물 뉴스 <======\n",
      "기사를 찾을 수 없습니다. 선택자가 변경되었을 수 있어요.\n"
     ]
    }
   ],
   "source": [
    "import requests\n",
    "from bs4 import BeautifulSoup\n",
    "\n",
    "# 섹션 딕셔너리\n",
    "section_dict = {\n",
    "    '기후/환경': 'climate', '사회': 'society', '경제': 'economy',\n",
    "    '정치': 'politics', '국재': 'world', '문화': 'culture',\n",
    "    '생활': 'life', 'IT/과학': 'tech', '인물': 'people'\n",
    "}\n",
    "\n",
    "# 함수 정의\n",
    "def print_news(section_name):\n",
    "    if section_name not in section_dict:\n",
    "        print(f\"❌ 존재하지 않는 섹션명입니다: {section_name}\")\n",
    "        return\n",
    "\n",
    "    # URL 생성\n",
    "    section_eng = section_dict[section_name]\n",
    "    url = f'https://news.daum.net/{section_eng}'\n",
    "\n",
    "    print(f\"======> {url} {section_name} 뉴스 <======\")\n",
    "\n",
    "    # 헤더 설정\n",
    "    headers = {\n",
    "        'User-Agent': 'Mozilla/5.0 (Windows NT 10.0; Win64; x64) AppleWebKit/537.36 (KHTML, like Gecko) Chrome/123.0.0.0 Safari/537.36'\n",
    "    }\n",
    "\n",
    "    # 요청\n",
    "    response = requests.get(url, headers=headers)\n",
    "\n",
    "    if response.status_code == 200:\n",
    "        soup = BeautifulSoup(response.text, 'html.parser')\n",
    "        # 기사 선택자 (2025년 4월 기준)\n",
    "        news_list = soup.select('ul.list_news2 strong.tit_thumb > a')\n",
    "\n",
    "        if len(news_list) == 0:\n",
    "            print(\"기사를 찾을 수 없습니다. 선택자가 변경되었을 수 있어요.\")\n",
    "        else:\n",
    "            for article in news_list[:5]:  # 상위 5개만 출력\n",
    "                print(article['href'])\n",
    "                print(article.get_text(strip=True))\n",
    "    else:\n",
    "        print(f\"요청 실패: {response.status_code}\")\n",
    "\n",
    "# 함수 호출\n",
    "print_news('경제')\n",
    "print()\n",
    "print_news('인물')"
   ]
  },
  {
   "cell_type": "code",
   "execution_count": 58,
   "id": "dfe40847-a788-4582-bb0c-3bce3d22319c",
   "metadata": {},
   "outputs": [
    {
     "ename": "SyntaxError",
     "evalue": "invalid syntax (1756728841.py, line 1)",
     "output_type": "error",
     "traceback": [
      "\u001b[1;36m  Cell \u001b[1;32mIn[58], line 1\u001b[1;36m\u001b[0m\n\u001b[1;33m    1. Daum 뉴스기사 제목 스크래핑하기 (필수)\u001b[0m\n\u001b[1;37m       ^\u001b[0m\n\u001b[1;31mSyntaxError\u001b[0m\u001b[1;31m:\u001b[0m invalid syntax\n"
     ]
    }
   ],
   "source": [
    "#1. Daum 뉴스기사 제목 스크래핑하기 (필수)"
   ]
  },
  {
   "cell_type": "code",
   "execution_count": 62,
   "id": "a4535e06-1da2-4414-a063-d15d9984c396",
   "metadata": {},
   "outputs": [
    {
     "name": "stdout",
     "output_type": "stream",
     "text": [
      "Requirement already satisfied: webdriver-manager in c:\\users\\hun\\anaconda3\\lib\\site-packages (4.0.2)\n",
      "Requirement already satisfied: requests in c:\\users\\hun\\anaconda3\\lib\\site-packages (from webdriver-manager) (2.32.3)\n",
      "Requirement already satisfied: python-dotenv in c:\\users\\hun\\anaconda3\\lib\\site-packages (from webdriver-manager) (0.21.0)\n",
      "Requirement already satisfied: packaging in c:\\users\\hun\\anaconda3\\lib\\site-packages (from webdriver-manager) (24.1)\n",
      "Requirement already satisfied: charset-normalizer<4,>=2 in c:\\users\\hun\\anaconda3\\lib\\site-packages (from requests->webdriver-manager) (3.3.2)\n",
      "Requirement already satisfied: idna<4,>=2.5 in c:\\users\\hun\\anaconda3\\lib\\site-packages (from requests->webdriver-manager) (3.7)\n",
      "Requirement already satisfied: urllib3<3,>=1.21.1 in c:\\users\\hun\\anaconda3\\lib\\site-packages (from requests->webdriver-manager) (2.2.3)\n",
      "Requirement already satisfied: certifi>=2017.4.17 in c:\\users\\hun\\anaconda3\\lib\\site-packages (from requests->webdriver-manager) (2025.1.31)\n",
      "Note: you may need to restart the kernel to use updated packages.\n"
     ]
    }
   ],
   "source": [
    "pip install webdriver-manager"
   ]
  },
  {
   "cell_type": "code",
   "execution_count": 65,
   "id": "aff796a9-b224-42ce-8d48-eb4ea2d0a6d6",
   "metadata": {},
   "outputs": [
    {
     "name": "stdout",
     "output_type": "stream",
     "text": [
      "https://news.daum.net/economy\n",
      "<class 'bs4.element.ResultSet'> 15\n",
      "https://v.daum.net/v/20250408165702735\n",
      "광주시립오페라단의 화려한 소리의 대향연 '60 STARS' 성료...예술인들 대축제\n",
      "https://v.daum.net/v/20250408165624715\n",
      "울산항만공사, 물동량 확대 추진팀 구성…\"상호관세 대응\"\n",
      "https://v.daum.net/v/20250408165623714\n",
      "'순익 급감' 오스템임플란트, 1000억 배당… 사모펀드 투자금 회수 시동?\n",
      "https://v.daum.net/v/20250408165549695\n",
      "한국거래소, 중소형 상장사 밸류업 컨설팅 설명회 8일 진행\n",
      "https://v.daum.net/v/20250408165446654\n",
      "주삿바늘만 봐도 '픽' 경련까지…응급실 실신 환자 절반이 '이 병'\n",
      "https://v.daum.net/v/20250408165436649\n",
      "위메프도 팔리나…BBQ \"인수의향서 제출\"\n",
      "https://v.daum.net/v/20250408165428639\n",
      "이철규, 석탄발전소 폐지지역 행·재정적 지원 마련해야\n",
      "https://v.daum.net/v/20250408165407627\n",
      "1분기 월가 대형은행 트레이딩 매출 10년 만에 최대 전망\n",
      "https://v.daum.net/v/20250408165406625\n",
      "최상목 \"미 관세 낮추기 위해 지속 협의…업종별 대책 속도\"\n",
      "https://v.daum.net/v/20250408165405624\n",
      "미 관세 조치에 농식품분야 원료구매 자금 추가지원…수출보험 확대 등도 검토\n",
      "https://v.daum.net/v/20250408164858411\n",
      "용산 대통령실 애물단지로…“불통 상징에 주술 의혹 꺼림칙”\n",
      "https://v.daum.net/v/20250408164759375\n",
      "송미령 \"민관 '원팀'으로 미국 상호관세 파고 넘을것\"(종합)\n",
      "https://v.daum.net/v/20250408164439230\n",
      "강기정, 5·18정신 헌법수록 등 15대 과제 대선공약 제안(종합)\n",
      "https://v.daum.net/v/20250408164047063\n",
      "국민의힘 대선출마 러시…2∼3단계 컷오프 뒤 2명 최종경선 검토(종합)\n",
      "https://v.daum.net/v/20250408160003397\n",
      "'김건희 통화폰' 알고도 놓친 검찰...김영선 폰 11대 중 4대만 압수\n"
     ]
    }
   ],
   "source": [
    "from selenium import webdriver\n",
    "from selenium.webdriver.chrome.service import Service\n",
    "from selenium.webdriver.chrome.options import Options\n",
    "from bs4 import BeautifulSoup\n",
    "from webdriver_manager.chrome import ChromeDriverManager\n",
    "import time\n",
    "\n",
    "# 다음 경제 뉴스 URL\n",
    "url = 'https://news.daum.net/economy'\n",
    "print(url)\n",
    "\n",
    "# 셀레니움 옵션 설정\n",
    "options = Options()\n",
    "options.add_argument(\"--headless\")  # 창 안 띄우기\n",
    "options.add_argument(\"--no-sandbox\")\n",
    "options.add_argument(\"--disable-dev-shm-usage\")\n",
    "\n",
    "# 드라이버 실행\n",
    "driver = webdriver.Chrome(service=Service(ChromeDriverManager().install()), options=options)\n",
    "driver.get(url)\n",
    "\n",
    "# 로딩 대기\n",
    "time.sleep(2)\n",
    "\n",
    "# 페이지 파싱\n",
    "soup = BeautifulSoup(driver.page_source, 'html.parser')\n",
    "\n",
    "# 기사 추출\n",
    "a_tag_list = soup.select(\"a.item_newsbasic\")\n",
    "print(type(a_tag_list), len(a_tag_list))\n",
    "\n",
    "for a_tag in a_tag_list:\n",
    "    href = a_tag.get('href')\n",
    "    title_tag = a_tag.select_one(\"strong.tit_txt\")\n",
    "    title = title_tag.text.strip() if title_tag else \"제목 없음\"\n",
    "    print(href)\n",
    "    print(title)\n",
    "\n",
    "driver.quit()"
   ]
  },
  {
   "cell_type": "code",
   "execution_count": 71,
   "id": "161f77ac-5062-4ea8-bd2b-11b3d7b23414",
   "metadata": {},
   "outputs": [
    {
     "name": "stdout",
     "output_type": "stream",
     "text": [
      "\n",
      "======> https://news.daum.net/economy 경제 뉴스 <======\n",
      "https://v.daum.net/v/20250408165820788\n",
      "증시는 폭락 후 반등...15시 30분 기준 환율, 금융위기 후 최고\n",
      "https://v.daum.net/v/20250408165820789\n",
      "최상목 \"美관세 낮추기 위해 최적의 협의 전략 마련할 것\"\n",
      "https://v.daum.net/v/20250408165817787\n",
      "한울소재과학, 15억 규모 전환청구권 행사\n",
      "\n",
      "======> https://news.daum.net/people 인물 뉴스 <======\n",
      "https://v.daum.net/v/20250408153904477\n",
      "블랙록 CEO “美 경기침체 위기…장기적으론 매수 기회”\n",
      "https://v.daum.net/v/20250408145656439\n",
      "김도순 서울대 농림생물자원학부 교수, 제18대 세계잡초학회장 선출\n",
      "https://v.daum.net/v/20250408134055798\n",
      "성균관대 방창현·조수연 연구팀, 양서류 발바닥 본뜬 바이오센서 패치 개발\n",
      "\n",
      "======> https://news.daum.net/politics 정치 뉴스 <======\n",
      "https://v.daum.net/v/20250408165803776\n",
      "권성동 \"이재명, 안면몰수로 개헌 논의 거부\"...'동시 투표' 동참 촉구\n",
      "https://v.daum.net/v/20250408165723757\n",
      "반도체법 주52시간 예외 여전히 평행선…민주당, 패스트트랙 요구\n",
      "https://v.daum.net/v/20250408165709746\n",
      "한미연합연습 기간 공군 전투기 무단촬영한 10대 중국인 “부친이 공안” 진술\n",
      "\n",
      "======> https://news.daum.net/world 국재 뉴스 <======\n",
      "https://v.daum.net/v/20250408165732764\n",
      "홍콩 행정수반 “미국 야만적 관세 부과에 FTA 확대로 맞설 것”\n",
      "https://v.daum.net/v/20250408165633717\n",
      "'미중 허브' 싱가포르 \"자유무역 종말…어떤 나라엔 생존의 문제\"\n",
      "https://v.daum.net/v/20250408165613708\n",
      "\"타협과 거리 먼 트럼프…관세로 '권력 극대화' 노려\"\n",
      "\n",
      "======> https://news.daum.net/culture 문화 뉴스 <======\n",
      "https://v.daum.net/v/20250408165746767\n",
      "피아니스트 보리스 길트버그 24일 내한…쇼팽·라프마니노프 연주\n",
      "https://v.daum.net/v/20250408165731763\n",
      "‘국내산 김치’라더니…원산지 속인 업체 1분기만 200곳 넘어\n",
      "https://v.daum.net/v/20250408165702735\n",
      "광주시립오페라단의 화려한 소리의 대향연 '60 STARS' 성료...예술인들 대축제\n"
     ]
    }
   ],
   "source": [
    "#   질문:  여러개의 section 중 하나를 선택해서 url에서 뉴스기사의 링크와 제목을 출력하는 코드를 함수로 작성하기\n",
    "\n",
    "from selenium import webdriver\n",
    "from selenium.webdriver.chrome.options import Options\n",
    "from selenium.webdriver.chrome.service import Service\n",
    "from webdriver_manager.chrome import ChromeDriverManager\n",
    "from bs4 import BeautifulSoup\n",
    "import time\n",
    "\n",
    "# 섹션 딕셔너리\n",
    "section_dict = {\n",
    "    '기후/환경':'climate','사회':'society','경제':'economy','정치':'politics',\n",
    "    '국재':'world','문화':'culture','생활':'life','IT/과학':'tech','인물':'people'\n",
    "}\n",
    "\n",
    "# 함수 정의\n",
    "def print_news(section_name):\n",
    "    if section_name not in section_dict:\n",
    "        print(f\"'{section_name}'은(는) 유효한 섹션명이 아닙니다.\")\n",
    "        return\n",
    "    \n",
    "    section_code = section_dict[section_name]\n",
    "    url = f\"https://news.daum.net/{section_code}\"\n",
    "    print(f\"\\n======> {url} {section_name} 뉴스 <======\")\n",
    "\n",
    "    # Selenium WebDriver 설정\n",
    "    options = Options()\n",
    "    options.add_argument('--headless')  # 브라우저 안 띄움\n",
    "    options.add_argument('--no-sandbox')\n",
    "    options.add_argument('--disable-dev-shm-usage')\n",
    "\n",
    "    service = Service(ChromeDriverManager().install())\n",
    "    driver = webdriver.Chrome(service=service, options=options)\n",
    "    \n",
    "    driver.get(url)\n",
    "    time.sleep(2)  # 페이지 로딩 대기\n",
    "\n",
    "    # 페이지 소스 가져와서 파싱\n",
    "    soup = BeautifulSoup(driver.page_source, 'html.parser')\n",
    "    driver.quit()\n",
    "\n",
    "    # 뉴스 링크 추출\n",
    "    news_items = soup.select('ul.list_newsbasic > li > a.item_newsbasic')\n",
    "    \n",
    "    for item in news_items[:3]:  # 상위 3개만 출력\n",
    "        href = item.get('href')\n",
    "        title_tag = item.select_one('.tit_txt')\n",
    "        if href and title_tag:\n",
    "            print(href)\n",
    "            print(title_tag.text.strip())\n",
    "\n",
    "# 함수 실행 예시\n",
    "print_news('경제')\n",
    "print_news('인물')\n",
    "print_news('정치')\n",
    "print_news('국재')\n",
    "print_news('문화')"
   ]
  },
  {
   "cell_type": "code",
   "execution_count": null,
   "id": "4f371519-aa5b-4827-a85f-d87a154a4c1e",
   "metadata": {},
   "outputs": [],
   "source": []
  }
 ],
 "metadata": {
  "kernelspec": {
   "display_name": "Python [conda env:base] *",
   "language": "python",
   "name": "conda-base-py"
  },
  "language_info": {
   "codemirror_mode": {
    "name": "ipython",
    "version": 3
   },
   "file_extension": ".py",
   "mimetype": "text/x-python",
   "name": "python",
   "nbconvert_exporter": "python",
   "pygments_lexer": "ipython3",
   "version": "3.12.7"
  }
 },
 "nbformat": 4,
 "nbformat_minor": 5
}
