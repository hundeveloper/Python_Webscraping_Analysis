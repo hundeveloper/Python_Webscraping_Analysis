{
 "cells": [
  {
   "cell_type": "code",
   "execution_count": 39,
   "id": "6dc41786-dd31-4162-82b4-08a7db947e43",
   "metadata": {},
   "outputs": [],
   "source": [
    "import requests\n",
    "from bs4 import BeautifulSoup"
   ]
  },
  {
   "cell_type": "code",
   "execution_count": 41,
   "id": "015afc76-3fb0-4d36-a587-a96a8d56b135",
   "metadata": {},
   "outputs": [
    {
     "name": "stdout",
     "output_type": "stream",
     "text": [
      "https://news.daum.net/economy\n"
     ]
    }
   ],
   "source": [
    "url = 'https://news.daum.net/economy'\n",
    "print(url)"
   ]
  },
  {
   "cell_type": "code",
   "execution_count": 43,
   "id": "83450d9c-4f79-42f6-99ff-838dcdd32285",
   "metadata": {},
   "outputs": [
    {
     "name": "stdout",
     "output_type": "stream",
     "text": [
      "<class 'requests.models.Response'>\n",
      "200\n"
     ]
    }
   ],
   "source": [
    "response = requests.get(url)\n",
    "print(type(response))\n",
    "print(response.status_code)  \n",
    "\n",
    "# User-Agent 설정 (크롬 브라우저 흉내)\n",
    "headers = {\n",
    "    'User-Agent': 'Mozilla/5.0 (Windows NT 10.0; Win64; x64) AppleWebKit/537.36 (KHTML, like Gecko) Chrome/123.0.0.0 Safari/537.36'\n",
    "}\n"
   ]
  },
  {
   "cell_type": "code",
   "execution_count": 45,
   "id": "a8b72df0-4bbb-4df7-9cd1-7a2943c38390",
   "metadata": {},
   "outputs": [
    {
     "name": "stdout",
     "output_type": "stream",
     "text": [
      "<class 'bs4.element.ResultSet'> 0\n"
     ]
    }
   ],
   "source": [
    "if response.status_code == 200:\n",
    "    soup = BeautifulSoup(response.text, 'html.parser')\n",
    "\n",
    "    news_list = soup.select(\"ul.list_newsmajor a.link_txt\")  # 기사 제목과 링크가 있는 <a> 태그\n",
    "    print(type(news_list), len(news_list))\n",
    "    for link in news_list:\n",
    "        href = link.get('href')\n",
    "        title = link.get_text(strip=True)\n",
    "        print(href)\n",
    "        print(title)\n",
    "else:\n",
    "    print(\"❌ 요청 실패:\", response.status_code)    "
   ]
  },
  {
   "cell_type": "code",
   "execution_count": 51,
   "id": "6e588643-0de8-4a54-9355-2d21ba559314",
   "metadata": {},
   "outputs": [
    {
     "name": "stdout",
     "output_type": "stream",
     "text": [
      "======> https://news.daum.net/economy 경제 뉴스 <======\n",
      "기사를 찾을 수 없습니다. 선택자가 변경되었을 수 있어요.\n",
      "\n",
      "======> https://news.daum.net/people 인물 뉴스 <======\n",
      "기사를 찾을 수 없습니다. 선택자가 변경되었을 수 있어요.\n"
     ]
    }
   ],
   "source": [
    "import requests\n",
    "from bs4 import BeautifulSoup\n",
    "\n",
    "# 섹션 딕셔너리\n",
    "section_dict = {\n",
    "    '기후/환경': 'climate', '사회': 'society', '경제': 'economy',\n",
    "    '정치': 'politics', '국재': 'world', '문화': 'culture',\n",
    "    '생활': 'life', 'IT/과학': 'tech', '인물': 'people'\n",
    "}\n",
    "\n",
    "# 함수 정의\n",
    "def print_news(section_name):\n",
    "    if section_name not in section_dict:\n",
    "        print(f\"❌ 존재하지 않는 섹션명입니다: {section_name}\")\n",
    "        return\n",
    "\n",
    "    # URL 생성\n",
    "    section_eng = section_dict[section_name]\n",
    "    url = f'https://news.daum.net/{section_eng}'\n",
    "\n",
    "    print(f\"======> {url} {section_name} 뉴스 <======\")\n",
    "\n",
    "    # 헤더 설정\n",
    "    headers = {\n",
    "        'User-Agent': 'Mozilla/5.0 (Windows NT 10.0; Win64; x64) AppleWebKit/537.36 (KHTML, like Gecko) Chrome/123.0.0.0 Safari/537.36'\n",
    "    }\n",
    "\n",
    "    # 요청\n",
    "    response = requests.get(url, headers=headers)\n",
    "\n",
    "    if response.status_code == 200:\n",
    "        soup = BeautifulSoup(response.text, 'html.parser')\n",
    "        # 기사 선택자 (2025년 4월 기준)\n",
    "        news_list = soup.select('ul.list_news2 strong.tit_thumb > a')\n",
    "\n",
    "        if len(news_list) == 0:\n",
    "            print(\"기사를 찾을 수 없습니다. 선택자가 변경되었을 수 있어요.\")\n",
    "        else:\n",
    "            for article in news_list[:5]:  # 상위 5개만 출력\n",
    "                print(article['href'])\n",
    "                print(article.get_text(strip=True))\n",
    "    else:\n",
    "        print(f\"요청 실패: {response.status_code}\")\n",
    "\n",
    "# 함수 호출\n",
    "print_news('경제')\n",
    "print()\n",
    "print_news('인물')"
   ]
  }
 ],
 "metadata": {
  "kernelspec": {
   "display_name": "Python [conda env:base] *",
   "language": "python",
   "name": "conda-base-py"
  },
  "language_info": {
   "codemirror_mode": {
    "name": "ipython",
    "version": 3
   },
   "file_extension": ".py",
   "mimetype": "text/x-python",
   "name": "python",
   "nbconvert_exporter": "python",
   "pygments_lexer": "ipython3",
   "version": "3.12.7"
  }
 },
 "nbformat": 4,
 "nbformat_minor": 5
}
